{
 "cells": [
  {
   "cell_type": "markdown",
   "id": "cb8e7e8c",
   "metadata": {},
   "source": [
    "# Flights Price Analysis \n",
    "\n",
    "The goal of this notebook is to run some analysis on a dataset that contains one-way flights found on Expedia between 2022-04-16 and 2022-10-05 (you can find it at this [link](https://www.kaggle.com/datasets/dilwong/flightprices))."
   ]
  },
  {
   "cell_type": "code",
   "execution_count": null,
   "id": "6c4ec14c",
   "metadata": {},
   "outputs": [],
   "source": [
    "%%configure -f\n",
    "{\"executorMemory\":\"8G\", \"numExecutors\":2, \"executorCores\":3, \"conf\": {\"spark.dynamicAllocation.enabled\": \"false\"}}"
   ]
  },
  {
   "cell_type": "code",
   "execution_count": 1,
   "id": "885fe425",
   "metadata": {},
   "outputs": [
    {
     "data": {
      "application/vnd.jupyter.widget-view+json": {
       "model_id": "e5af7a28f03d4c69845094f030faa978",
       "version_major": 2,
       "version_minor": 0
      },
      "text/plain": [
       "VBox()"
      ]
     },
     "metadata": {},
     "output_type": "display_data"
    },
    {
     "name": "stdout",
     "output_type": "stream",
     "text": [
      "Starting Spark application\n"
     ]
    },
    {
     "data": {
      "text/html": [
       "<table>\n",
       "<tr><th>ID</th><th>YARN Application ID</th><th>Kind</th><th>State</th><th>Spark UI</th><th>Driver log</th><th>User</th><th>Current session?</th></tr><tr><td>0</td><td>application_1677420161242_0001</td><td>spark</td><td>idle</td><td><a target=\"_blank\" href=\"http://ip-172-31-86-174.ec2.internal:20888/proxy/application_1677420161242_0001/\" class=\"emr-proxy-link\" emr-resource=\"j-22GE8EPA3U5FB\n",
       "\" application-id=\"application_1677420161242_0001\">Link</a></td><td><a target=\"_blank\" href=\"http://ip-172-31-94-209.ec2.internal:8042/node/containerlogs/container_1677420161242_0001_01_000001/livy\" >Link</a></td><td>None</td><td>✔</td></tr></table>"
      ],
      "text/plain": [
       "<IPython.core.display.HTML object>"
      ]
     },
     "metadata": {},
     "output_type": "display_data"
    },
    {
     "data": {
      "application/vnd.jupyter.widget-view+json": {
       "model_id": "",
       "version_major": 2,
       "version_minor": 0
      },
      "text/plain": [
       "FloatProgress(value=0.0, bar_style='info', description='Progress:', layout=Layout(height='25px', width='50%'),…"
      ]
     },
     "metadata": {},
     "output_type": "display_data"
    },
    {
     "name": "stdout",
     "output_type": "stream",
     "text": [
      "SparkSession available as 'spark'.\n"
     ]
    },
    {
     "data": {
      "application/vnd.jupyter.widget-view+json": {
       "model_id": "",
       "version_major": 2,
       "version_minor": 0
      },
      "text/plain": [
       "FloatProgress(value=0.0, bar_style='info', description='Progress:', layout=Layout(height='25px', width='50%'),…"
      ]
     },
     "metadata": {},
     "output_type": "display_data"
    },
    {
     "name": "stdout",
     "output_type": "stream",
     "text": [
      "bucketname: String = unibo-bd2223-paolopenazzi\n"
     ]
    }
   ],
   "source": [
    "val bucketname = \"unibo-bd2223-paolopenazzi\"\n",
    "// val bucketname = \"unibo-bd2223-vfolin\""
   ]
  },
  {
   "cell_type": "markdown",
   "id": "ee7bafc0",
   "metadata": {},
   "source": [
    "## Data Preparation\n",
    "\n",
    "The following columns will be kept and created:\n",
    "- flightID: Identifier for the flight.\n",
    "- searchDate: Date the record was obtained from Expedia.\n",
    "- searchMonth: Month the record was obtained from Expedia.\n",
    "- searchDay: Day the record was obtained from Expedia.\n",
    "- flightDate: The date of the flight.\n",
    "- flightMonth: The month of the flight.\n",
    "- flightDay: The day of the flight.\n",
    "- startingAirport: 3-letter code for the starting airport.\n",
    "- destinationAirport: 3-letter code for the destination airport.\n",
    "- duration: Travel duration in minutes.\n",
    "- isEconomy: Is basic economy?\n",
    "- isRefundable: Is the ticket refundable?\n",
    "- isNonStop: Is the flight non-stop?\n",
    "- baseFare: Price of the ticket (not including taxes).\n",
    "- totalFare: Price of the ticket, including taxes and fees.\n",
    "- seatsRemaining: Number of remaining seats.\n",
    "- travelDistance: The total travel distance in miles."
   ]
  },
  {
   "cell_type": "code",
   "execution_count": 2,
   "id": "01b7adc5",
   "metadata": {},
   "outputs": [
    {
     "data": {
      "application/vnd.jupyter.widget-view+json": {
       "model_id": "b503f1e8ffd748aeafd8a51fe3db6167",
       "version_major": 2,
       "version_minor": 0
      },
      "text/plain": [
       "VBox()"
      ]
     },
     "metadata": {},
     "output_type": "display_data"
    },
    {
     "data": {
      "application/vnd.jupyter.widget-view+json": {
       "model_id": "",
       "version_major": 2,
       "version_minor": 0
      },
      "text/plain": [
       "FloatProgress(value=0.0, bar_style='info', description='Progress:', layout=Layout(height='25px', width='50%'),…"
      ]
     },
     "metadata": {},
     "output_type": "display_data"
    },
    {
     "name": "stdout",
     "output_type": "stream",
     "text": [
      "defined class FlightData\n",
      "defined object FlightData\n",
      "warning: previously defined class FlightData is not a companion to object FlightData.\n",
      "Companions must be defined together; you may wish to use :paste mode for this.\n",
      "rdd: org.apache.spark.rdd.RDD[String] = s3a://unibo-bd2223-paolopenazzi/datasets/itineraries.csv MapPartitionsRDD[1] at textFile at <console>:29\n",
      "header: String = legId,searchDate,flightDate,startingAirport,destinationAirport,fareBasisCode,travelDuration,elapsedDays,isBasicEconomy,isRefundable,isNonStop,baseFare,totalFare,seatsRemaining,totalTravelDistance,segmentsDepartureTimeEpochSeconds,segmentsDepartureTimeRaw,segmentsArrivalTimeEpochSeconds,segmentsArrivalTimeRaw,segmentsArrivalAirportCode,segmentsDepartureAirportCode,segmentsAirlineName,segmentsAirlineCode,segmentsEquipmentDescription,segmentsDurationInSeconds,segmentsDistance,segmentsCabinCode\n",
      "rddFlights: org.apache.spark.rdd.RDD[FlightData] = MapPartitionsRDD[3] at map at <console>:29\n"
     ]
    }
   ],
   "source": [
    "case class FlightData(\n",
    "    flightID:String,\n",
    "    searchDate:String,\n",
    "    searchMonth:String,\n",
    "    searchDay:String,\n",
    "    flightDate:String,\n",
    "    flightMonth:String,\n",
    "    flightDay:String,\n",
    "    startingAirport:String,\n",
    "    destinationAirport:String,\n",
    "    duration:Int,\n",
    "    isEconomy:Boolean,\n",
    "    isRefundable:Boolean,\n",
    "    isNonStop:Boolean,\n",
    "    baseFare:Double,\n",
    "    totalFare:Double,\n",
    "    seatsRemaining:Int,\n",
    "    travelDistance:Int\n",
    ")\n",
    "\n",
    "object FlightData {\n",
    "\n",
    "    def parse(line:String) = {\n",
    "        val input = line.split(\",\")\n",
    "        val flightID = input(0)\n",
    "        val searchDate = input(1)\n",
    "        val searchMonth = searchDate.substring(5,7)\n",
    "        val searchDay = searchDate.substring(8,10)\n",
    "        val flightDate = input(2)\n",
    "        val flightMonth = flightDate.substring(5,7)\n",
    "        val flightDay = flightDate.substring(8,10)\n",
    "        val startingAirport = input(3)\n",
    "        val destinationAirport = input(4)\n",
    "        val dur = input(6).replace(\"P\",\"\").replace(\"T\",\"\").split(\"D|H|M\").map(x => x.toInt)\n",
    "        val duration = dur.length match {\n",
    "            case 3 => dur(0) * 1440 + dur(1) * 60 + dur(2)\n",
    "            case 2 => dur(0) * 60 + dur(1)\n",
    "            case 1 => dur(0)\n",
    "        }\n",
    "        val isEconomy = input(8).toBoolean\n",
    "        val isRefundable = input(9).toBoolean\n",
    "        val isNonStop = input(10).toBoolean\n",
    "        val baseFare = input(11).toDouble\n",
    "        val totalFare = input(12).toDouble\n",
    "        val seatsRemaining = input(13).toInt\n",
    "        val travelDistance = input(14) match {\n",
    "            case \"\" => 0\n",
    "            case _ => input(14).toInt\n",
    "        }\n",
    "        \n",
    "        new FlightData(flightID,searchDate,searchMonth,searchDay,flightDate,flightMonth,flightDay,startingAirport,\n",
    "                       destinationAirport,duration,isEconomy,isRefundable,isNonStop,baseFare,totalFare,\n",
    "                       seatsRemaining,travelDistance)\n",
    "    }\n",
    "}\n",
    "\n",
    "// Create an RRD from the csv file.\n",
    "val rdd = sc.textFile(\"s3a://\"+bucketname+\"/datasets/itineraries.csv\")\n",
    "// Extract header from RDD and parse every row\n",
    "val header = rdd.first(); \n",
    "val rddFlights = rdd.filter(row => row != header).map(FlightData.parse)"
   ]
  },
  {
   "cell_type": "markdown",
   "id": "bed34591",
   "metadata": {},
   "source": [
    "#### Visualize data as a DataFrame"
   ]
  },
  {
   "cell_type": "code",
   "execution_count": 3,
   "id": "9841e3ce",
   "metadata": {},
   "outputs": [
    {
     "data": {
      "application/vnd.jupyter.widget-view+json": {
       "model_id": "513b4f0b95074e789690a8ec27421eae",
       "version_major": 2,
       "version_minor": 0
      },
      "text/plain": [
       "VBox()"
      ]
     },
     "metadata": {},
     "output_type": "display_data"
    },
    {
     "data": {
      "application/vnd.jupyter.widget-view+json": {
       "model_id": "",
       "version_major": 2,
       "version_minor": 0
      },
      "text/plain": [
       "FloatProgress(value=0.0, bar_style='info', description='Progress:', layout=Layout(height='25px', width='50%'),…"
      ]
     },
     "metadata": {},
     "output_type": "display_data"
    },
    {
     "name": "stdout",
     "output_type": "stream",
     "text": [
      "import spark.implicits._\n",
      "columns: Seq[String] = List(flightID, searchDate, searchMonth, searchDay, flightDate, flightMonth, flightDay, startingAirport, destinationAirport, duration, isEconomy, isRefundable, isNonStop, baseFare, totalFare, seatsRemaining, travelDistance)\n",
      "flightDataframe: org.apache.spark.sql.DataFrame = [flightID: string, searchDate: string ... 15 more fields]\n",
      "-RECORD 0----------------------------------------------\n",
      " flightID           | 9ca0e81111c683bec1012473feefd28f \n",
      " searchDate         | 2022-04-16                       \n",
      " searchMonth        | 04                               \n",
      " searchDay          | 16                               \n",
      " flightDate         | 2022-04-17                       \n",
      " flightMonth        | 04                               \n",
      " flightDay          | 17                               \n",
      " startingAirport    | ATL                              \n",
      " destinationAirport | BOS                              \n",
      " duration           | 149                              \n",
      " isEconomy          | false                            \n",
      " isRefundable       | false                            \n",
      " isNonStop          | true                             \n",
      " baseFare           | 217.67                           \n",
      " totalFare          | 248.6                            \n",
      " seatsRemaining     | 9                                \n",
      " travelDistance     | 947                              \n",
      "-RECORD 1----------------------------------------------\n",
      " flightID           | 98685953630e772a098941b71906592b \n",
      " searchDate         | 2022-04-16                       \n",
      " searchMonth        | 04                               \n",
      " searchDay          | 16                               \n",
      " flightDate         | 2022-04-17                       \n",
      " flightMonth        | 04                               \n",
      " flightDay          | 17                               \n",
      " startingAirport    | ATL                              \n",
      " destinationAirport | BOS                              \n",
      " duration           | 150                              \n",
      " isEconomy          | false                            \n",
      " isRefundable       | false                            \n",
      " isNonStop          | true                             \n",
      " baseFare           | 217.67                           \n",
      " totalFare          | 248.6                            \n",
      " seatsRemaining     | 4                                \n",
      " travelDistance     | 947                              \n",
      "-RECORD 2----------------------------------------------\n",
      " flightID           | 98d90cbc32bfbb05c2fc32897c7c1087 \n",
      " searchDate         | 2022-04-16                       \n",
      " searchMonth        | 04                               \n",
      " searchDay          | 16                               \n",
      " flightDate         | 2022-04-17                       \n",
      " flightMonth        | 04                               \n",
      " flightDay          | 17                               \n",
      " startingAirport    | ATL                              \n",
      " destinationAirport | BOS                              \n",
      " duration           | 150                              \n",
      " isEconomy          | false                            \n",
      " isRefundable       | false                            \n",
      " isNonStop          | true                             \n",
      " baseFare           | 217.67                           \n",
      " totalFare          | 248.6                            \n",
      " seatsRemaining     | 9                                \n",
      " travelDistance     | 947                              \n",
      "only showing top 3 rows\n",
      "\n"
     ]
    }
   ],
   "source": [
    "import spark.implicits._\n",
    "\n",
    "val columns = Seq(\"flightID\",\n",
    "                  \"searchDate\",\n",
    "                  \"searchMonth\",\n",
    "                  \"searchDay\",\n",
    "                  \"flightDate\",\n",
    "                  \"flightMonth\",\n",
    "                  \"flightDay\",\n",
    "                  \"startingAirport\",\n",
    "                  \"destinationAirport\",\n",
    "                  \"duration\",\n",
    "                  \"isEconomy\",\n",
    "                  \"isRefundable\",\n",
    "                  \"isNonStop\",\n",
    "                  \"baseFare\",\n",
    "                  \"totalFare\",\n",
    "                  \"seatsRemaining\",\n",
    "                  \"travelDistance\")\n",
    "\n",
    "val flightDataframe = rddFlights.toDF(columns:_*)\n",
    "flightDataframe.show(3,truncate=40,vertical=true)"
   ]
  },
  {
   "cell_type": "markdown",
   "id": "1b2d9b98",
   "metadata": {},
   "source": [
    "#### Define a function to compute the number of days between the searchDate and the flightDate"
   ]
  },
  {
   "cell_type": "code",
   "execution_count": 4,
   "id": "1ffbfe4c",
   "metadata": {
    "scrolled": true
   },
   "outputs": [
    {
     "data": {
      "application/vnd.jupyter.widget-view+json": {
       "model_id": "ffe9be3d57114813a3d85f08f60b69a1",
       "version_major": 2,
       "version_minor": 0
      },
      "text/plain": [
       "VBox()"
      ]
     },
     "metadata": {},
     "output_type": "display_data"
    },
    {
     "data": {
      "application/vnd.jupyter.widget-view+json": {
       "model_id": "",
       "version_major": 2,
       "version_minor": 0
      },
      "text/plain": [
       "FloatProgress(value=0.0, bar_style='info', description='Progress:', layout=Layout(height='25px', width='50%'),…"
      ]
     },
     "metadata": {},
     "output_type": "display_data"
    },
    {
     "name": "stdout",
     "output_type": "stream",
     "text": [
      "import java.time.temporal.ChronoUnit.DAYS\n",
      "import java.time.LocalDate\n",
      "daysBetween: (x: FlightData)Long\n"
     ]
    }
   ],
   "source": [
    "import java.time.temporal.ChronoUnit.DAYS\n",
    "import java.time.LocalDate\n",
    "\n",
    "def daysBetween(x: FlightData): Long = {\n",
    "        val searchDate = LocalDate.parse(x.searchDate);\n",
    "        val flightDate = LocalDate.parse(x.flightDate);\n",
    "        val daysBetween = DAYS.between(searchDate, flightDate);\n",
    "        daysBetween\n",
    "}"
   ]
  },
  {
   "cell_type": "markdown",
   "id": "e8fdf60d",
   "metadata": {},
   "source": [
    "## Data Exploration"
   ]
  },
  {
   "cell_type": "markdown",
   "id": "1d7151c7",
   "metadata": {},
   "source": [
    "#### Cache the dataset to run futher analysis and queries later"
   ]
  },
  {
   "cell_type": "code",
   "execution_count": 5,
   "id": "ac09ab83",
   "metadata": {
    "scrolled": true
   },
   "outputs": [
    {
     "data": {
      "application/vnd.jupyter.widget-view+json": {
       "model_id": "3ac74ce5ac684fbb80b41f1ba23007bf",
       "version_major": 2,
       "version_minor": 0
      },
      "text/plain": [
       "VBox()"
      ]
     },
     "metadata": {},
     "output_type": "display_data"
    },
    {
     "data": {
      "application/vnd.jupyter.widget-view+json": {
       "model_id": "",
       "version_major": 2,
       "version_minor": 0
      },
      "text/plain": [
       "FloatProgress(value=0.0, bar_style='info', description='Progress:', layout=Layout(height='25px', width='50%'),…"
      ]
     },
     "metadata": {},
     "output_type": "display_data"
    },
    {
     "name": "stdout",
     "output_type": "stream",
     "text": [
      "rddFlightsCached: rddFlights.type = MapPartitionsRDD[3] at map at <console>:29\n"
     ]
    }
   ],
   "source": [
    "val rddFlightsCached = rddFlights.cache()"
   ]
  },
  {
   "cell_type": "markdown",
   "id": "b341f94b",
   "metadata": {},
   "source": [
    "#### Perform the following queries to explore the dataset:"
   ]
  },
  {
   "cell_type": "markdown",
   "id": "e1df4879",
   "metadata": {},
   "source": [
    "- Number of searches performed \n",
    "- Number of distinct flights\n",
    "- Number of distinct startingAirport"
   ]
  },
  {
   "cell_type": "code",
   "execution_count": 13,
   "id": "109bf983",
   "metadata": {},
   "outputs": [
    {
     "data": {
      "application/vnd.jupyter.widget-view+json": {
       "model_id": "44676170a18c43568b86687a309363da",
       "version_major": 2,
       "version_minor": 0
      },
      "text/plain": [
       "VBox()"
      ]
     },
     "metadata": {},
     "output_type": "display_data"
    },
    {
     "data": {
      "application/vnd.jupyter.widget-view+json": {
       "model_id": "",
       "version_major": 2,
       "version_minor": 0
      },
      "text/plain": [
       "FloatProgress(value=0.0, bar_style='info', description='Progress:', layout=Layout(height='25px', width='50%'),…"
      ]
     },
     "metadata": {},
     "output_type": "display_data"
    },
    {
     "name": "stdout",
     "output_type": "stream",
     "text": [
      "rddDistinctFlightsCached: org.apache.spark.rdd.RDD[(String, String, String, Boolean, Boolean, String)] = MapPartitionsRDD[62] at distinct at <console>:32\n",
      "\n",
      "Number of searches performed: 82138753\n",
      "Number of distinct flights: 6741921\n",
      "Number of distinct startingAirport: 16\n"
     ]
    }
   ],
   "source": [
    "val rddDistinctFlightsCached = rddFlightsCached.\n",
    "    map(x => (x.flightID, x.startingAirport, x.flightMonth, x.isNonStop, x.isEconomy, x.destinationAirport)).\n",
    "    distinct().\n",
    "    cache()\n",
    "\n",
    "println(\"\\nNumber of searches performed: \" + rddFlightsCached.count())\n",
    "println(\"Number of distinct flights: \" + rddDistinctFlightsCached.count())\n",
    "println(\"Number of distinct startingAirport: \" + rddDistinctFlightsCached.map(x => (x._2)).distinct().count())\n",
    "\n",
    "/*\n",
    "Number of searches performed: 82138753\n",
    "Number of distinct flights: 6741921\n",
    "Number of distinct startingAirport: 16\n",
    "*/"
   ]
  },
  {
   "cell_type": "markdown",
   "id": "9c71f444",
   "metadata": {},
   "source": [
    "- Number of flights by starting airport\n",
    "- Number of flights by month\n",
    "- Number of routes, that are the possible combinations of starting and destination airport"
   ]
  },
  {
   "cell_type": "code",
   "execution_count": 21,
   "id": "d08be480",
   "metadata": {},
   "outputs": [
    {
     "data": {
      "application/vnd.jupyter.widget-view+json": {
       "model_id": "4b652c824308477cbe10edcf62a3a417",
       "version_major": 2,
       "version_minor": 0
      },
      "text/plain": [
       "VBox()"
      ]
     },
     "metadata": {},
     "output_type": "display_data"
    },
    {
     "data": {
      "application/vnd.jupyter.widget-view+json": {
       "model_id": "",
       "version_major": 2,
       "version_minor": 0
      },
      "text/plain": [
       "FloatProgress(value=0.0, bar_style='info', description='Progress:', layout=Layout(height='25px', width='50%'),…"
      ]
     },
     "metadata": {},
     "output_type": "display_data"
    },
    {
     "name": "stdout",
     "output_type": "stream",
     "text": [
      "Number of flights by starting airport\n",
      "flightsByAirport: Array[(String, Int)] = Array((LAX,647762), (CLT,439551), (JFK,321474), (BOS,503551), (OAK,322976), (LGA,489480), (ATL,411753), (MIA,386155), (DTW,369802), (PHL,399106), (SFO,568692), (EWR,329291), (ORD,416925), (DEN,359393), (IAD,342082), (DFW,433928))\n",
      "\n",
      "Number of flights by month\n",
      "flightsByMonth: Array[(String, Int)] = Array((04,205745), (05,768008), (06,1022075), (07,1080180), (08,1203901), (09,1192040), (10,880474), (11,389498))\n",
      "\n",
      "Number of routes: 235\n"
     ]
    }
   ],
   "source": [
    "println(\"Number of flights by starting airport\")\n",
    "val flightsByAirport = rddDistinctFlightsCached.\n",
    "    map(x => (x._2, 1)).\n",
    "    reduceByKey(_+_).\n",
    "    collect()\n",
    "\n",
    "println(\"\\nNumber of flights by month\")\n",
    "val flightsByMonth = rddDistinctFlightsCached.\n",
    "    map(x => (x._3, 1)).\n",
    "    reduceByKey(_+_).\n",
    "    collect()\n",
    "\n",
    "println(\"\\nNumber of routes: \" + rddDistinctFlightsCached.map(x => (x._2, x._6)).distinct().count()) \n",
    "\n",
    "/*\n",
    "Number of flights by starting airport\n",
    "flightsByAirport: Array[(String, Int)] = Array((LAX,647762), (CLT,439551), (JFK,321474), (BOS,503551),\n",
    "(OAK,322976), (LGA,489480), (ATL,411753), (MIA,386155), (DTW,369802), (PHL,399106), (SFO,568692),\n",
    "(EWR,329291), (ORD,416925), (DEN,359393), (IAD,342082), (DFW,433928))\n",
    "\n",
    "Number of flights by month\n",
    "flightsByMonth: Array[(String, Int)] = Array((04,205745), (05,768008), (06,1022075), (07,1080180),\n",
    "(08,1203901), (09,1192040), (10,880474), (11,389498))\n",
    "\n",
    "Number of routes: 235\n",
    "*/"
   ]
  },
  {
   "cell_type": "markdown",
   "id": "9cc716dd",
   "metadata": {},
   "source": [
    "- Number of flights that have an available economy ticket\n",
    "- Number of flights that have an available no-economy ticket\n",
    "- Number of direct flights"
   ]
  },
  {
   "cell_type": "code",
   "execution_count": 22,
   "id": "1efcc96f",
   "metadata": {},
   "outputs": [
    {
     "data": {
      "application/vnd.jupyter.widget-view+json": {
       "model_id": "2d1fcd7962cf4b21ad4cfc6893faead9",
       "version_major": 2,
       "version_minor": 0
      },
      "text/plain": [
       "VBox()"
      ]
     },
     "metadata": {},
     "output_type": "display_data"
    },
    {
     "data": {
      "application/vnd.jupyter.widget-view+json": {
       "model_id": "",
       "version_major": 2,
       "version_minor": 0
      },
      "text/plain": [
       "FloatProgress(value=0.0, bar_style='info', description='Progress:', layout=Layout(height='25px', width='50%'),…"
      ]
     },
     "metadata": {},
     "output_type": "display_data"
    },
    {
     "name": "stdout",
     "output_type": "stream",
     "text": [
      "Number of flights that offer an economy fare: 1189149\n",
      "Number of flights that offer a non economy fare: 5552772\n",
      "Number of direct flights: 809106\n"
     ]
    }
   ],
   "source": [
    "println(\"Number of flights that offer an economy fare: \" + rddDistinctFlightsCached.filter(x => x._5).count())\n",
    "println(\"Number of flights that offer a non economy fare: \" + rddDistinctFlightsCached.filter(x => !x._5).count())\n",
    "println(\"Number of direct flights: \" + rddDistinctFlightsCached.filter(x => x._4).count())\n",
    "\n",
    "/*\n",
    "Number of flights that offer an economy fare: 1189149\n",
    "Number of flights that offer a non economy fare: 5552772\n",
    "Number of direct flights: 809106\n",
    "*/"
   ]
  },
  {
   "cell_type": "markdown",
   "id": "f6da0874",
   "metadata": {},
   "source": [
    "## Jobs"
   ]
  },
  {
   "cell_type": "code",
   "execution_count": 24,
   "id": "308f503a",
   "metadata": {},
   "outputs": [
    {
     "data": {
      "application/vnd.jupyter.widget-view+json": {
       "model_id": "2cbf50e8cbf043f8abf88fd54f25ffda",
       "version_major": 2,
       "version_minor": 0
      },
      "text/plain": [
       "VBox()"
      ]
     },
     "metadata": {},
     "output_type": "display_data"
    },
    {
     "data": {
      "application/vnd.jupyter.widget-view+json": {
       "model_id": "",
       "version_major": 2,
       "version_minor": 0
      },
      "text/plain": [
       "FloatProgress(value=0.0, bar_style='info', description='Progress:', layout=Layout(height='25px', width='50%'),…"
      ]
     },
     "metadata": {},
     "output_type": "display_data"
    },
    {
     "name": "stdout",
     "output_type": "stream",
     "text": [
      "import org.apache.spark.sql.SaveMode\n",
      "path_output: String = s3a://unibo-bd2223-vfolin/spark/bdexam\n"
     ]
    }
   ],
   "source": [
    "import org.apache.spark.sql.SaveMode\n",
    "\n",
    "val output_path = \"s3a://\"+bucketname+\"/spark/bdexam\""
   ]
  },
  {
   "cell_type": "markdown",
   "id": "9d3d2e9d",
   "metadata": {},
   "source": [
    "### 1 - Veronika Folin\n",
    "\n",
    "The change that occurs in the ticket price in 14 days prior to flight departure is calculated, dividing the result between economy and no-economy tickets.\n",
    "\n",
    "The correlation between that change in price and the number of seats remaining on that flight is then displayed."
   ]
  },
  {
   "cell_type": "markdown",
   "id": "5089d128",
   "metadata": {},
   "source": [
    "#### We filter data to obtain searches made in the last 30 days before flight departure\n",
    "\n",
    "The filtering operation allows us to reduce the number of records and therefore to optimize subsequent queries."
   ]
  },
  {
   "cell_type": "code",
   "execution_count": 22,
   "id": "38327eb6",
   "metadata": {},
   "outputs": [
    {
     "data": {
      "application/vnd.jupyter.widget-view+json": {
       "model_id": "3bac4bb031bd4d8f8eb99affed472d65",
       "version_major": 2,
       "version_minor": 0
      },
      "text/plain": [
       "VBox()"
      ]
     },
     "metadata": {},
     "output_type": "display_data"
    },
    {
     "data": {
      "application/vnd.jupyter.widget-view+json": {
       "model_id": "",
       "version_major": 2,
       "version_minor": 0
      },
      "text/plain": [
       "FloatProgress(value=0.0, bar_style='info', description='Progress:', layout=Layout(height='25px', width='50%'),…"
      ]
     },
     "metadata": {},
     "output_type": "display_data"
    },
    {
     "name": "stdout",
     "output_type": "stream",
     "text": [
      "rddFlightsFiltered: org.apache.spark.rdd.RDD[FlightData] = MapPartitionsRDD[132] at filter at <console>:33\n"
     ]
    }
   ],
   "source": [
    "val rddFlightsFiltered = rddFlights.\n",
    "    filter(x => daysBetween(x) <= 30).\n",
    "    cache()\n",
    "\n",
    "//\"Number of filtered flights: \" + rddFlightsFiltered.count()\n",
    "// 47674280"
   ]
  },
  {
   "cell_type": "markdown",
   "id": "f1a62651",
   "metadata": {},
   "source": [
    "#### We divide the result between economy and no-economy tickets"
   ]
  },
  {
   "cell_type": "code",
   "execution_count": 23,
   "id": "05a1a8ac",
   "metadata": {
    "scrolled": true
   },
   "outputs": [
    {
     "data": {
      "application/vnd.jupyter.widget-view+json": {
       "model_id": "f5395e9335f244fa8f75924388e7b877",
       "version_major": 2,
       "version_minor": 0
      },
      "text/plain": [
       "VBox()"
      ]
     },
     "metadata": {},
     "output_type": "display_data"
    },
    {
     "data": {
      "application/vnd.jupyter.widget-view+json": {
       "model_id": "",
       "version_major": 2,
       "version_minor": 0
      },
      "text/plain": [
       "FloatProgress(value=0.0, bar_style='info', description='Progress:', layout=Layout(height='25px', width='50%'),…"
      ]
     },
     "metadata": {},
     "output_type": "display_data"
    },
    {
     "name": "stdout",
     "output_type": "stream",
     "text": [
      "rddEconomyFlights: org.apache.spark.rdd.RDD[FlightData] = MapPartitionsRDD[133] at filter at <console>:30\n",
      "rddNoEconomyFlights: org.apache.spark.rdd.RDD[FlightData] = MapPartitionsRDD[134] at filter at <console>:30\n"
     ]
    }
   ],
   "source": [
    "val rddEconomyFlights = rddFlightsFiltered.filter(_.isEconomy)\n",
    "val rddNoEconomyFlights = rddFlightsFiltered.filter(!_.isEconomy)"
   ]
  },
  {
   "cell_type": "markdown",
   "id": "51bec96a",
   "metadata": {},
   "source": [
    "#### We calculate the average ticket price in a given number of days before departure"
   ]
  },
  {
   "cell_type": "code",
   "execution_count": 26,
   "id": "8db64182",
   "metadata": {
    "scrolled": true
   },
   "outputs": [
    {
     "data": {
      "application/vnd.jupyter.widget-view+json": {
       "model_id": "5c87de68880943989512c7dffd4bee09",
       "version_major": 2,
       "version_minor": 0
      },
      "text/plain": [
       "VBox()"
      ]
     },
     "metadata": {},
     "output_type": "display_data"
    },
    {
     "data": {
      "application/vnd.jupyter.widget-view+json": {
       "model_id": "",
       "version_major": 2,
       "version_minor": 0
      },
      "text/plain": [
       "FloatProgress(value=0.0, bar_style='info', description='Progress:', layout=Layout(height='25px', width='50%'),…"
      ]
     },
     "metadata": {},
     "output_type": "display_data"
    },
    {
     "name": "stdout",
     "output_type": "stream",
     "text": [
      "rddAveragePriceEconomy: org.apache.spark.rdd.RDD[(Long, Double)] = MapPartitionsRDD[137] at map at <console>:36\n",
      "rddAveragePriceNoEconomy: org.apache.spark.rdd.RDD[(Long, Double)] = MapPartitionsRDD[140] at map at <console>:37\n"
     ]
    }
   ],
   "source": [
    "val rddAveragePriceEconomy = rddEconomyFlights.\n",
    "    map(x => (daysBetween(x), x.baseFare)).\n",
    "    aggregateByKey((0.0,0.0))((x,y)=>(x._1+y, x._2 + 1) , (x,y)=>(x._1 + y._1, x._2 + y._2)).\n",
    "    map({case(k,v) => (k, v._1/v._2)})\n",
    "\n",
    "val rddAveragePriceNoEconomy = rddNoEconomyFlights.\n",
    "    map(x => (daysBetween(x), x.baseFare)).\n",
    "    aggregateByKey((0.0,0.0))((x,y)=>(x._1+y, x._2 + 1) , (x,y)=>(x._1 + y._1, x._2 + y._2)).\n",
    "    map({case(k,v) => (k, v._1/v._2)})"
   ]
  },
  {
   "cell_type": "markdown",
   "id": "c0b7533a",
   "metadata": {},
   "source": [
    "#### We calculate the average number of seats remaining on flights over a given number of days before departure"
   ]
  },
  {
   "cell_type": "code",
   "execution_count": 27,
   "id": "f88b6898",
   "metadata": {
    "scrolled": true
   },
   "outputs": [
    {
     "data": {
      "application/vnd.jupyter.widget-view+json": {
       "model_id": "98db2ec7e5a44beab11c1aca95de222a",
       "version_major": 2,
       "version_minor": 0
      },
      "text/plain": [
       "VBox()"
      ]
     },
     "metadata": {},
     "output_type": "display_data"
    },
    {
     "data": {
      "application/vnd.jupyter.widget-view+json": {
       "model_id": "",
       "version_major": 2,
       "version_minor": 0
      },
      "text/plain": [
       "FloatProgress(value=0.0, bar_style='info', description='Progress:', layout=Layout(height='25px', width='50%'),…"
      ]
     },
     "metadata": {},
     "output_type": "display_data"
    },
    {
     "name": "stdout",
     "output_type": "stream",
     "text": [
      "rddAverageSeatsRemainingEconomy: org.apache.spark.rdd.RDD[(Long, Double)] = MapPartitionsRDD[143] at map at <console>:36\n",
      "rddAverageSeatsRemainingNonEconomy: org.apache.spark.rdd.RDD[(Long, Double)] = MapPartitionsRDD[146] at map at <console>:37\n"
     ]
    }
   ],
   "source": [
    "val rddAverageSeatsRemainingEconomy = rddEconomyFlights.\n",
    "    map(x => (daysBetween(x), x.seatsRemaining)).\n",
    "    aggregateByKey((0.0,0.0))((x,y)=>(x._1+y, x._2 + 1) , (x,y)=>(x._1 + y._1, x._2 + y._2)).\n",
    "    map({case(k,v) => (k, v._1/v._2)})\n",
    "\n",
    "val rddAverageSeatsRemainingNoEconomy = rddNoEconomyFlights.\n",
    "    map(x => (daysBetween(x), x.seatsRemaining)).\n",
    "    aggregateByKey((0.0,0.0))((x,y)=>(x._1+y, x._2 + 1) , (x,y)=>(x._1 + y._1, x._2 + y._2)).\n",
    "    map({case(k,v) => (k, v._1/v._2)})"
   ]
  },
  {
   "cell_type": "markdown",
   "id": "31a182ce",
   "metadata": {},
   "source": [
    "#### We join average ticket prices with average number of remaining seats, and then we save the result on S3 to reuse it"
   ]
  },
  {
   "cell_type": "code",
   "execution_count": 28,
   "id": "3dc1da55",
   "metadata": {
    "scrolled": true
   },
   "outputs": [
    {
     "data": {
      "application/vnd.jupyter.widget-view+json": {
       "model_id": "32d0011c61554c7fa5a315b6d99a8e9f",
       "version_major": 2,
       "version_minor": 0
      },
      "text/plain": [
       "VBox()"
      ]
     },
     "metadata": {},
     "output_type": "display_data"
    },
    {
     "data": {
      "application/vnd.jupyter.widget-view+json": {
       "model_id": "",
       "version_major": 2,
       "version_minor": 0
      },
      "text/plain": [
       "FloatProgress(value=0.0, bar_style='info', description='Progress:', layout=Layout(height='25px', width='50%'),…"
      ]
     },
     "metadata": {},
     "output_type": "display_data"
    },
    {
     "name": "stdout",
     "output_type": "stream",
     "text": [
      "rddEconomyResult: Unit = ()\n",
      "rddNoEconomyResult: Unit = ()\n"
     ]
    }
   ],
   "source": [
    "val rddEconomyResult = rddAverageSeatsRemainingEconomy.join(rddAveragePriceEconomy).\n",
    "    map({case(k,v) => (k, v._1, v._2)}).\n",
    "    coalesce(1).toDF().write.format(\"csv\").mode(SaveMode.Overwrite).save(path_output)\n",
    "val rddNoEconomyResult = rddAverageSeatsRemainingNonEconomy.join(rddAveragePriceNoEconomy).\n",
    "    map({case(k,v) => (k, v._1, v._2)}).\n",
    "    coalesce(1).toDF().write.format(\"csv\").mode(SaveMode.Overwrite).save(path_output)"
   ]
  },
  {
   "cell_type": "markdown",
   "id": "ae53c5b7",
   "metadata": {},
   "source": [
    "#### We calculate the correlation matrix between the attributes AverageSeatsRemaining and AveragePrice"
   ]
  },
  {
   "cell_type": "code",
   "execution_count": 11,
   "id": "b2da3395",
   "metadata": {},
   "outputs": [
    {
     "data": {
      "application/vnd.jupyter.widget-view+json": {
       "model_id": "bfb9d48b1ac84f37a428d561886c2483",
       "version_major": 2,
       "version_minor": 0
      },
      "text/plain": [
       "VBox()"
      ]
     },
     "metadata": {},
     "output_type": "display_data"
    },
    {
     "data": {
      "application/vnd.jupyter.widget-view+json": {
       "model_id": "",
       "version_major": 2,
       "version_minor": 0
      },
      "text/plain": [
       "FloatProgress(value=0.0, bar_style='info', description='Progress:', layout=Layout(height='25px', width='50%'),…"
      ]
     },
     "metadata": {},
     "output_type": "display_data"
    },
    {
     "name": "stdout",
     "output_type": "stream",
     "text": [
      "import org.apache.spark.mllib.stat.Statistics\n",
      "import org.apache.spark.mllib.linalg._\n",
      "economyData: org.apache.spark.rdd.RDD[org.apache.spark.mllib.linalg.Vector] = MapPartitionsRDD[34] at map at <console>:36\n",
      "correlMatrix: org.apache.spark.mllib.linalg.Matrix =\n",
      "1.0                  -0.8847960167193927\n",
      "-0.8847960167193927  1.0\n",
      "nonEconomyData: org.apache.spark.rdd.RDD[org.apache.spark.mllib.linalg.Vector] = MapPartitionsRDD[43] at map at <console>:36\n",
      "correlMatrix: org.apache.spark.mllib.linalg.Matrix =\n",
      "1.0                  -0.5823660225408362\n",
      "-0.5823660225408362  1.0\n"
     ]
    }
   ],
   "source": [
    "import org.apache.spark.mllib.stat.Statistics\n",
    "import org.apache.spark.mllib.linalg._\n",
    "\n",
    "val economyData = rddEconomyResult.map({case(days,(averageSeatsRemaining, averagePrice)) => \n",
    "    Vectors.dense(averageSeatsRemaining, averagePrice)}).cache()\n",
    "val correlMatrixEconomy: Matrix = Statistics.corr(economyData)\n",
    "\n",
    "val noEconomyData = rddNonEconomyResult.map({case(days,(averageSeatsRemaining, averagePrice)) => \n",
    "    Vectors.dense(averageSeatsRemaining, averagePrice)}).cache()\n",
    "val correlMatrixNoEconomy: Matrix = Statistics.corr(noEconomyData)"
   ]
  },
  {
   "cell_type": "markdown",
   "id": "9350efbe",
   "metadata": {},
   "source": [
    "### 2 - Paolo Penazzi\n",
    "\n",
    "The goal is to identify the cheapest flights departing in a given period, grouped according to the starting airport, calculating the following values:\n",
    "- The average price recorded in the 14 days before the departure of direct flights only.\n",
    "- The previous result in relation to the distance traveled by the flight. (the flights that take us as far as possible for less money)\n",
    "- The cheapest airport to travel from, based on the previous result."
   ]
  },
  {
   "cell_type": "markdown",
   "id": "ffc794ec",
   "metadata": {},
   "source": [
    "Data is filtered to obtain the searches made in the last 14 days before the flight departure. \n",
    "\n",
    "Records with the travelDistance of the flight equal to 0 are removed.\n",
    "\n",
    "The filtering operation is the first step done because it allows to reduce the number of records and therefore to optimize subsequent queries."
   ]
  },
  {
   "cell_type": "code",
   "execution_count": 24,
   "id": "bd026c30",
   "metadata": {
    "scrolled": true
   },
   "outputs": [
    {
     "data": {
      "application/vnd.jupyter.widget-view+json": {
       "model_id": "580e8015820141bfa13eb67223cd8612",
       "version_major": 2,
       "version_minor": 0
      },
      "text/plain": [
       "VBox()"
      ]
     },
     "metadata": {},
     "output_type": "display_data"
    },
    {
     "data": {
      "application/vnd.jupyter.widget-view+json": {
       "model_id": "",
       "version_major": 2,
       "version_minor": 0
      },
      "text/plain": [
       "FloatProgress(value=0.0, bar_style='info', description='Progress:', layout=Layout(height='25px', width='50%'),…"
      ]
     },
     "metadata": {},
     "output_type": "display_data"
    },
    {
     "name": "stdout",
     "output_type": "stream",
     "text": [
      "rddSearchesFiltered: org.apache.spark.rdd.RDD[FlightData] = MapPartitionsRDD[139] at filter at <console>:34\n",
      "\n",
      "Number of searches: 21736294\n"
     ]
    }
   ],
   "source": [
    "val rddSearchesFiltered = rddFlights.\n",
    "    filter(x => daysBetween(x) <= 14).\n",
    "    filter(_.travelDistance != 0).\n",
    "    cache()\n",
    "\n",
    "println(\"\\nNumber of searches: \" + rddSearchesFiltered.count())\n",
    "\n",
    "// Number of searches: 21736294"
   ]
  },
  {
   "cell_type": "code",
   "execution_count": 26,
   "id": "2ea9a0a1",
   "metadata": {},
   "outputs": [
    {
     "data": {
      "application/vnd.jupyter.widget-view+json": {
       "model_id": "5074a3644750435c9c3def22691c9352",
       "version_major": 2,
       "version_minor": 0
      },
      "text/plain": [
       "VBox()"
      ]
     },
     "metadata": {},
     "output_type": "display_data"
    },
    {
     "data": {
      "application/vnd.jupyter.widget-view+json": {
       "model_id": "",
       "version_major": 2,
       "version_minor": 0
      },
      "text/plain": [
       "FloatProgress(value=0.0, bar_style='info', description='Progress:', layout=Layout(height='25px', width='50%'),…"
      ]
     },
     "metadata": {},
     "output_type": "display_data"
    },
    {
     "name": "stdout",
     "output_type": "stream",
     "text": [
      "computeWeek: (flightDate: String)Long\n"
     ]
    }
   ],
   "source": [
    "def computeWeek(flightDate: String): Long = {\n",
    "    val firstDate = LocalDate.parse(\"2022-04-16\");\n",
    "    val actualDate = LocalDate.parse(flightDate);\n",
    "    DAYS.between(firstDate, actualDate)/7.toInt;\n",
    "}"
   ]
  },
  {
   "cell_type": "code",
   "execution_count": 37,
   "id": "0ca67858",
   "metadata": {},
   "outputs": [
    {
     "data": {
      "application/vnd.jupyter.widget-view+json": {
       "model_id": "37aa1f17c8dd484daae48b813fe84f19",
       "version_major": 2,
       "version_minor": 0
      },
      "text/plain": [
       "VBox()"
      ]
     },
     "metadata": {},
     "output_type": "display_data"
    },
    {
     "data": {
      "application/vnd.jupyter.widget-view+json": {
       "model_id": "",
       "version_major": 2,
       "version_minor": 0
      },
      "text/plain": [
       "FloatProgress(value=0.0, bar_style='info', description='Progress:', layout=Layout(height='25px', width='50%'),…"
      ]
     },
     "metadata": {},
     "output_type": "display_data"
    },
    {
     "name": "stdout",
     "output_type": "stream",
     "text": [
      "rddDistinctFlightsFiltered: org.apache.spark.rdd.RDD[(String, String, Int, String)] = MapPartitionsRDD[159] at distinct at <console>:32\n"
     ]
    }
   ],
   "source": [
    "val rddDistinctFlightsFiltered = rddSearchesFiltered.\n",
    "    map(x => (x.flightID, x.flightDate, x.travelDistance, x.startingAirport)).\n",
    "    distinct().\n",
    "    cache()"
   ]
  },
  {
   "cell_type": "code",
   "execution_count": 31,
   "id": "473a341c",
   "metadata": {},
   "outputs": [
    {
     "data": {
      "application/vnd.jupyter.widget-view+json": {
       "model_id": "239e31f629a14a17ac8a84d31e1bd88f",
       "version_major": 2,
       "version_minor": 0
      },
      "text/plain": [
       "VBox()"
      ]
     },
     "metadata": {},
     "output_type": "display_data"
    },
    {
     "data": {
      "application/vnd.jupyter.widget-view+json": {
       "model_id": "",
       "version_major": 2,
       "version_minor": 0
      },
      "text/plain": [
       "FloatProgress(value=0.0, bar_style='info', description='Progress:', layout=Layout(height='25px', width='50%'),…"
      ]
     },
     "metadata": {},
     "output_type": "display_data"
    },
    {
     "name": "stdout",
     "output_type": "stream",
     "text": [
      "rddDistinctFlightsWithPeriod: org.apache.spark.rdd.RDD[(String, Long)] = MapPartitionsRDD[144] at map at <console>:33\n"
     ]
    }
   ],
   "source": [
    "val rddDistinctFlightsWithPeriod = rddDistinctFlightsFiltered.\n",
    "    map(x => (x._1, computeWeek(x._2)))"
   ]
  },
  {
   "cell_type": "code",
   "execution_count": 33,
   "id": "418a3660",
   "metadata": {},
   "outputs": [
    {
     "data": {
      "application/vnd.jupyter.widget-view+json": {
       "model_id": "a2a9542ff55845838e9bde4681388b63",
       "version_major": 2,
       "version_minor": 0
      },
      "text/plain": [
       "VBox()"
      ]
     },
     "metadata": {},
     "output_type": "display_data"
    },
    {
     "data": {
      "application/vnd.jupyter.widget-view+json": {
       "model_id": "",
       "version_major": 2,
       "version_minor": 0
      },
      "text/plain": [
       "FloatProgress(value=0.0, bar_style='info', description='Progress:', layout=Layout(height='25px', width='50%'),…"
      ]
     },
     "metadata": {},
     "output_type": "display_data"
    },
    {
     "name": "stdout",
     "output_type": "stream",
     "text": [
      "rddAveragePricePerFlight: org.apache.spark.rdd.RDD[(String, Double)] = MapPartitionsRDD[147] at map at <console>:33\n"
     ]
    }
   ],
   "source": [
    "val rddAveragePricePerFlight = rddSearchesFiltered.\n",
    "    map(x => (x.flightID, x.baseFare)).\n",
    "    aggregateByKey((0.0,0.0))((x,y)=>(x._1+y, x._2 + 1) , (x,y)=>(x._1 + y._1, x._2 + y._2)).\n",
    "    map({case(k,v) => (k, v._1/v._2)})"
   ]
  },
  {
   "cell_type": "code",
   "execution_count": 39,
   "id": "c63fae7e",
   "metadata": {},
   "outputs": [
    {
     "data": {
      "application/vnd.jupyter.widget-view+json": {
       "model_id": "1422d6de7d9d4c829f09538d9d1f0577",
       "version_major": 2,
       "version_minor": 0
      },
      "text/plain": [
       "VBox()"
      ]
     },
     "metadata": {},
     "output_type": "display_data"
    },
    {
     "data": {
      "application/vnd.jupyter.widget-view+json": {
       "model_id": "",
       "version_major": 2,
       "version_minor": 0
      },
      "text/plain": [
       "FloatProgress(value=0.0, bar_style='info', description='Progress:', layout=Layout(height='25px', width='50%'),…"
      ]
     },
     "metadata": {},
     "output_type": "display_data"
    },
    {
     "name": "stdout",
     "output_type": "stream",
     "text": [
      "rddAveragePricePerDistance: org.apache.spark.rdd.RDD[(String, Double)] = MapPartitionsRDD[164] at map at <console>:35\n"
     ]
    }
   ],
   "source": [
    "val rddAveragePricePerDistance = rddDistinctFlightsFiltered.\n",
    "    map(x => (x._1, x._3)).\n",
    "    join(rddAveragePricePerFlight).\n",
    "    map({case(x,y) => (x, y._2/y._1)})"
   ]
  },
  {
   "cell_type": "code",
   "execution_count": 40,
   "id": "e04d12c3",
   "metadata": {},
   "outputs": [
    {
     "data": {
      "application/vnd.jupyter.widget-view+json": {
       "model_id": "e40aaa312d3141cb8166c0090cf0b80b",
       "version_major": 2,
       "version_minor": 0
      },
      "text/plain": [
       "VBox()"
      ]
     },
     "metadata": {},
     "output_type": "display_data"
    },
    {
     "data": {
      "application/vnd.jupyter.widget-view+json": {
       "model_id": "",
       "version_major": 2,
       "version_minor": 0
      },
      "text/plain": [
       "FloatProgress(value=0.0, bar_style='info', description='Progress:', layout=Layout(height='25px', width='50%'),…"
      ]
     },
     "metadata": {},
     "output_type": "display_data"
    },
    {
     "name": "stdout",
     "output_type": "stream",
     "text": [
      "rddAveragePricePerAirport: org.apache.spark.rdd.RDD[(String, (String, Double))] = MapPartitionsRDD[168] at join at <console>:34\n"
     ]
    }
   ],
   "source": [
    "val rddAveragePricePerAirport = rddDistinctFlightsFiltered.\n",
    "    map(x => (x._1, x._4)).\n",
    "    join(rddAveragePricePerDistance)"
   ]
  },
  {
   "cell_type": "code",
   "execution_count": 41,
   "id": "a9cc7440",
   "metadata": {},
   "outputs": [
    {
     "data": {
      "application/vnd.jupyter.widget-view+json": {
       "model_id": "f62bd36be53b4eb19fd3a5815e59d924",
       "version_major": 2,
       "version_minor": 0
      },
      "text/plain": [
       "VBox()"
      ]
     },
     "metadata": {},
     "output_type": "display_data"
    },
    {
     "data": {
      "application/vnd.jupyter.widget-view+json": {
       "model_id": "",
       "version_major": 2,
       "version_minor": 0
      },
      "text/plain": [
       "FloatProgress(value=0.0, bar_style='info', description='Progress:', layout=Layout(height='25px', width='50%'),…"
      ]
     },
     "metadata": {},
     "output_type": "display_data"
    },
    {
     "name": "stdout",
     "output_type": "stream",
     "text": [
      "rddFinal: org.apache.spark.rdd.RDD[(Double, String)] = ShuffledRDD[174] at sortByKey at <console>:34\n"
     ]
    }
   ],
   "source": [
    "val rddFinal = rddAveragePricePerAirport.\n",
    "    map({case(x,y) => (y._1, y._2)}).\n",
    "    aggregateByKey((0.0,0.0))((x,y)=>(x._1+y, x._2 + 1) , (a,b)=>(a._1 + b._1, a._2 + b._2)).\n",
    "    map({case(k,v) => (v._1/v._2, k)}).\n",
    "    sortByKey()\n",
    "\n",
    "/*\n",
    "distinct 300 sec\n",
    "map      625 sec\n",
    "map     16 sec\n",
    "map      373 sec\n",
    "map     18 sec\n",
    "map      400 sec\n",
    "map     14 sec\n",
    "sortbyK 0,5 sec\n",
    "*/"
   ]
  },
  {
   "cell_type": "code",
   "execution_count": 45,
   "id": "b9ed6857",
   "metadata": {},
   "outputs": [
    {
     "data": {
      "application/vnd.jupyter.widget-view+json": {
       "model_id": "fab43874b1a04a39b30c46e1ba1e55ef",
       "version_major": 2,
       "version_minor": 0
      },
      "text/plain": [
       "VBox()"
      ]
     },
     "metadata": {},
     "output_type": "display_data"
    },
    {
     "data": {
      "application/vnd.jupyter.widget-view+json": {
       "model_id": "",
       "version_major": 2,
       "version_minor": 0
      },
      "text/plain": [
       "FloatProgress(value=0.0, bar_style='info', description='Progress:', layout=Layout(height='25px', width='50%'),…"
      ]
     },
     "metadata": {},
     "output_type": "display_data"
    },
    {
     "name": "stdout",
     "output_type": "stream",
     "text": [
      "df: org.apache.spark.sql.DataFrame = [Airport: double, AvgPricePerDistance: string]\n",
      "res159: Array[org.apache.spark.sql.Row] = Array([0.17988029904856137,LAX], [0.19393624443351556,SFO], [0.2002686589880659,DEN], [0.20032604686862723,MIA], [0.21269134538073378,DFW], [0.23640432106133333,OAK], [0.24453020718848176,ORD], [0.24990981053289352,LGA], [0.2590611607820318,BOS], [0.26611110688969863,EWR], [0.2780071246501974,ATL], [0.30096046871780907,PHL], [0.3044091070553833,CLT], [0.3113123198244222,DTW], [0.31312544853160823,JFK], [0.3312865798692019,IAD])\n"
     ]
    }
   ],
   "source": [
    "val df = rddFinal.toDF(\"Airport\", \"AvgPricePerDistance\")\n",
    "df.head(16)"
   ]
  },
  {
   "cell_type": "code",
   "execution_count": null,
   "id": "fc45a4cf",
   "metadata": {},
   "outputs": [],
   "source": []
  }
 ],
 "metadata": {
  "kernelspec": {
   "display_name": "Spark",
   "language": "scala",
   "name": "sparkkernel"
  },
  "language_info": {
   "codemirror_mode": "text/x-scala",
   "file_extension": ".sc",
   "mimetype": "text/x-scala",
   "name": "scala",
   "pygments_lexer": "scala"
  }
 },
 "nbformat": 4,
 "nbformat_minor": 5
}

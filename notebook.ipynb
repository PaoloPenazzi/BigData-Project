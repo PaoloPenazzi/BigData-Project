{
 "cells": [
  {
   "cell_type": "markdown",
   "id": "cb8e7e8c",
   "metadata": {},
   "source": [
    "# Flights Price Analysis \n",
    "\n",
    "The goal of this notebook is to run some analysis on a dataset that contains one-way flights found on Expedia between 2022-04-16 and 2022-10-05 (you can find it at this [link](https://www.kaggle.com/datasets/dilwong/flightprices)."
   ]
  },
  {
   "cell_type": "code",
   "execution_count": 1,
   "id": "885fe425",
   "metadata": {},
   "outputs": [
    {
     "data": {
      "application/vnd.jupyter.widget-view+json": {
       "model_id": "370da7cd4e3d4857b6cdde2d813287b8",
       "version_major": 2,
       "version_minor": 0
      },
      "text/plain": [
       "VBox()"
      ]
     },
     "metadata": {},
     "output_type": "display_data"
    },
    {
     "name": "stdout",
     "output_type": "stream",
     "text": [
      "Starting Spark application\n"
     ]
    },
    {
     "data": {
      "text/html": [
       "<table>\n",
       "<tr><th>ID</th><th>YARN Application ID</th><th>Kind</th><th>State</th><th>Spark UI</th><th>Driver log</th><th>User</th><th>Current session?</th></tr><tr><td>0</td><td>application_1676987342002_0001</td><td>spark</td><td>idle</td><td><a target=\"_blank\" href=\"http://ip-172-31-89-109.ec2.internal:20888/proxy/application_1676987342002_0001/\" class=\"emr-proxy-link\" emr-resource=\"j-3QCITXJBWVZ0I\n",
       "\" application-id=\"application_1676987342002_0001\">Link</a></td><td><a target=\"_blank\" href=\"http://ip-172-31-81-130.ec2.internal:8042/node/containerlogs/container_1676987342002_0001_01_000001/livy\" >Link</a></td><td>None</td><td>✔</td></tr></table>"
      ],
      "text/plain": [
       "<IPython.core.display.HTML object>"
      ]
     },
     "metadata": {},
     "output_type": "display_data"
    },
    {
     "data": {
      "application/vnd.jupyter.widget-view+json": {
       "model_id": "",
       "version_major": 2,
       "version_minor": 0
      },
      "text/plain": [
       "FloatProgress(value=0.0, bar_style='info', description='Progress:', layout=Layout(height='25px', width='50%'),…"
      ]
     },
     "metadata": {},
     "output_type": "display_data"
    },
    {
     "name": "stdout",
     "output_type": "stream",
     "text": [
      "SparkSession available as 'spark'.\n"
     ]
    },
    {
     "data": {
      "application/vnd.jupyter.widget-view+json": {
       "model_id": "",
       "version_major": 2,
       "version_minor": 0
      },
      "text/plain": [
       "FloatProgress(value=0.0, bar_style='info', description='Progress:', layout=Layout(height='25px', width='50%'),…"
      ]
     },
     "metadata": {},
     "output_type": "display_data"
    },
    {
     "name": "stdout",
     "output_type": "stream",
     "text": [
      "bucketname: String = unibo-bd2223-paolopenazzi\n"
     ]
    }
   ],
   "source": [
    "val bucketname = \"unibo-bd2223-paolopenazzi\""
   ]
  },
  {
   "cell_type": "markdown",
   "id": "ee7bafc0",
   "metadata": {},
   "source": [
    "## DataPreparation\n",
    "\n",
    "The following columns will be kept and created:\n",
    "- flightID: Identifier for the flight.\n",
    "- searchDate: Date the record was obtained from Expedia.\n",
    "- searchMonth: Month the record was obtained from Expedia.\n",
    "- searchDay: Day the record was obtained from Expedia.\n",
    "- flightDate: The date of the flight.\n",
    "- flightMonth: The month of the flight.\n",
    "- flightDay: The day of the flight.\n",
    "- startingAirport: 3-letter code for the starting airport.\n",
    "- destinationAirport: 3-letter code for the destination airport.\n",
    "- duration: Travel duration in minutes.\n",
    "- isEconomy: Is basic economy?\n",
    "- isRefundable: Is the ticket refundable?\n",
    "- isNonStop: Is the flight non-stop?\n",
    "- baseFare: Price of the ticket (not including taxes).\n",
    "- totalFare: Price of the ticket, including taxes and fees.\n",
    "- seatsRemaining: Number of remaining seats.\n",
    "- travelDistance: The total travel distance in miles."
   ]
  },
  {
   "cell_type": "code",
   "execution_count": 2,
   "id": "01b7adc5",
   "metadata": {},
   "outputs": [
    {
     "data": {
      "application/vnd.jupyter.widget-view+json": {
       "model_id": "ff901bb72e324d5297331414157dd536",
       "version_major": 2,
       "version_minor": 0
      },
      "text/plain": [
       "VBox()"
      ]
     },
     "metadata": {},
     "output_type": "display_data"
    },
    {
     "data": {
      "application/vnd.jupyter.widget-view+json": {
       "model_id": "",
       "version_major": 2,
       "version_minor": 0
      },
      "text/plain": [
       "FloatProgress(value=0.0, bar_style='info', description='Progress:', layout=Layout(height='25px', width='50%'),…"
      ]
     },
     "metadata": {},
     "output_type": "display_data"
    },
    {
     "name": "stdout",
     "output_type": "stream",
     "text": [
      "defined class FlightData\n",
      "defined object FlightData\n",
      "warning: previously defined class FlightData is not a companion to object FlightData.\n",
      "Companions must be defined together; you may wish to use :paste mode for this.\n",
      "rdd: org.apache.spark.rdd.RDD[String] = s3a://unibo-bd2223-paolopenazzi/datasets/itineraries.csv MapPartitionsRDD[1] at textFile at <console>:29\n",
      "header: String = legId,searchDate,flightDate,startingAirport,destinationAirport,fareBasisCode,travelDuration,elapsedDays,isBasicEconomy,isRefundable,isNonStop,baseFare,totalFare,seatsRemaining,totalTravelDistance,segmentsDepartureTimeEpochSeconds,segmentsDepartureTimeRaw,segmentsArrivalTimeEpochSeconds,segmentsArrivalTimeRaw,segmentsArrivalAirportCode,segmentsDepartureAirportCode,segmentsAirlineName,segmentsAirlineCode,segmentsEquipmentDescription,segmentsDurationInSeconds,segmentsDistance,segmentsCabinCode\n",
      "rddFlights: org.apache.spark.rdd.RDD[FlightData] = MapPartitionsRDD[3] at map at <console>:29\n"
     ]
    }
   ],
   "source": [
    "case class FlightData(\n",
    "    flightID:String,\n",
    "    searchDate:String,\n",
    "    searchMonth:String,\n",
    "    searchDay:String,\n",
    "    flightDate:String,\n",
    "    flightMonth:String,\n",
    "    flightDay:String,\n",
    "    startingAirport:String,\n",
    "    destinationAirport:String,\n",
    "    duration:Int,\n",
    "    isEconomy:Boolean,\n",
    "    isRefundable:Boolean,\n",
    "    isNonStop:Boolean,\n",
    "    baseFare:Double,\n",
    "    totalFare:Double,\n",
    "    seatsRemaining:Int,\n",
    "    travelDistance:Int\n",
    ")\n",
    "\n",
    "object FlightData {\n",
    "\n",
    "    def parse(line:String) = {\n",
    "        val input = line.split(\",\")\n",
    "        val flightID = input(0)\n",
    "        val searchDate = input(1)\n",
    "        val searchMonth = searchDate.substring(5,7)\n",
    "        val searchDay = searchDate.substring(8,10)\n",
    "        val flightDate = input(2)\n",
    "        val flightMonth = flightDate.substring(5,7)\n",
    "        val flightDay = flightDate.substring(8,10)\n",
    "        val startingAirport = input(3)\n",
    "        val destinationAirport = input(4)\n",
    "        val dur = input(6).replace(\"P\",\"\").replace(\"T\",\"\").split(\"D|H|M\").map(x => x.toInt)\n",
    "        val duration = dur.length match {\n",
    "            case 3 => dur(0) * 1440 + dur(1) * 60 + dur(2)\n",
    "            case 2 => dur(0) * 60 + dur(1)\n",
    "            case 1 => dur(0)\n",
    "        }\n",
    "        val isEconomy = input(8).toBoolean\n",
    "        val isRefundable = input(9).toBoolean\n",
    "        val isNonStop = input(10).toBoolean\n",
    "        val baseFare = input(11).toDouble\n",
    "        val totalFare = input(12).toDouble\n",
    "        val seatsRemaining = input(13).toInt\n",
    "        val travelDistance = input(14) match {\n",
    "            case \"\" => 0\n",
    "            case _ => input(14).toInt\n",
    "        }\n",
    "        \n",
    "        new FlightData(flightID,searchDate,searchMonth,searchDay,flightDate,flightMonth,flightDay,startingAirport,\n",
    "                       destinationAirport,duration,isEconomy,isRefundable,isNonStop,baseFare,totalFare,\n",
    "                       seatsRemaining,travelDistance)\n",
    "    }\n",
    "}\n",
    "\n",
    "/** Create RRD */\n",
    "val rdd = sc.textFile(\"s3a://\"+bucketname+\"/datasets/itineraries.csv\")\n",
    "/** Extract header from RDD and parse every row*/\n",
    "val header = rdd.first(); \n",
    "val rddFlights = rdd.filter(row => row != header).map(FlightData.parse)\n",
    "/** Count elements on RDD */\n",
    "//rddFlights.count() //82138753"
   ]
  },
  {
   "cell_type": "markdown",
   "id": "bed34591",
   "metadata": {},
   "source": [
    "#### Visualize data as a DataFrame"
   ]
  },
  {
   "cell_type": "code",
   "execution_count": 15,
   "id": "9841e3ce",
   "metadata": {},
   "outputs": [
    {
     "data": {
      "application/vnd.jupyter.widget-view+json": {
       "model_id": "f298e255e39741a7bd5a53555ad4ecfd",
       "version_major": 2,
       "version_minor": 0
      },
      "text/plain": [
       "VBox()"
      ]
     },
     "metadata": {},
     "output_type": "display_data"
    },
    {
     "data": {
      "application/vnd.jupyter.widget-view+json": {
       "model_id": "",
       "version_major": 2,
       "version_minor": 0
      },
      "text/plain": [
       "FloatProgress(value=0.0, bar_style='info', description='Progress:', layout=Layout(height='25px', width='50%'),…"
      ]
     },
     "metadata": {},
     "output_type": "display_data"
    },
    {
     "name": "stdout",
     "output_type": "stream",
     "text": [
      "import spark.implicits._\n",
      "columns: Seq[String] = List(flightID, searchDate, searchMonth, searchDay, flightDate, flightMonth, flightDay, startingAirport, destinationAirport, duration, isEconomy, isRefundable, isNonStop, baseFare, totalFare, seatsRemaining, travelDistance)\n",
      "flightDataframe: org.apache.spark.sql.DataFrame = [flightID: string, searchDate: string ... 15 more fields]\n",
      "-RECORD 0----------------------------------------------\n",
      " flightID           | 9ca0e81111c683bec1012473feefd28f \n",
      " searchDate         | 2022-04-16                       \n",
      " searchMonth        | 04                               \n",
      " searchDay          | 16                               \n",
      " flightDate         | 2022-04-17                       \n",
      " flightMonth        | 04                               \n",
      " flightDay          | 17                               \n",
      " startingAirport    | ATL                              \n",
      " destinationAirport | BOS                              \n",
      " duration           | 149                              \n",
      " isEconomy          | false                            \n",
      " isRefundable       | false                            \n",
      " isNonStop          | true                             \n",
      " baseFare           | 217.67                           \n",
      " totalFare          | 248.6                            \n",
      " seatsRemaining     | 9                                \n",
      " travelDistance     | 947                              \n",
      "-RECORD 1----------------------------------------------\n",
      " flightID           | 98685953630e772a098941b71906592b \n",
      " searchDate         | 2022-04-16                       \n",
      " searchMonth        | 04                               \n",
      " searchDay          | 16                               \n",
      " flightDate         | 2022-04-17                       \n",
      " flightMonth        | 04                               \n",
      " flightDay          | 17                               \n",
      " startingAirport    | ATL                              \n",
      " destinationAirport | BOS                              \n",
      " duration           | 150                              \n",
      " isEconomy          | false                            \n",
      " isRefundable       | false                            \n",
      " isNonStop          | true                             \n",
      " baseFare           | 217.67                           \n",
      " totalFare          | 248.6                            \n",
      " seatsRemaining     | 4                                \n",
      " travelDistance     | 947                              \n",
      "-RECORD 2----------------------------------------------\n",
      " flightID           | 98d90cbc32bfbb05c2fc32897c7c1087 \n",
      " searchDate         | 2022-04-16                       \n",
      " searchMonth        | 04                               \n",
      " searchDay          | 16                               \n",
      " flightDate         | 2022-04-17                       \n",
      " flightMonth        | 04                               \n",
      " flightDay          | 17                               \n",
      " startingAirport    | ATL                              \n",
      " destinationAirport | BOS                              \n",
      " duration           | 150                              \n",
      " isEconomy          | false                            \n",
      " isRefundable       | false                            \n",
      " isNonStop          | true                             \n",
      " baseFare           | 217.67                           \n",
      " totalFare          | 248.6                            \n",
      " seatsRemaining     | 9                                \n",
      " travelDistance     | 947                              \n",
      "-RECORD 3----------------------------------------------\n",
      " flightID           | 969a269d38eae583f455486fa90877b4 \n",
      " searchDate         | 2022-04-16                       \n",
      " searchMonth        | 04                               \n",
      " searchDay          | 16                               \n",
      " flightDate         | 2022-04-17                       \n",
      " flightMonth        | 04                               \n",
      " flightDay          | 17                               \n",
      " startingAirport    | ATL                              \n",
      " destinationAirport | BOS                              \n",
      " duration           | 152                              \n",
      " isEconomy          | false                            \n",
      " isRefundable       | false                            \n",
      " isNonStop          | true                             \n",
      " baseFare           | 217.67                           \n",
      " totalFare          | 248.6                            \n",
      " seatsRemaining     | 8                                \n",
      " travelDistance     | 947                              \n",
      "-RECORD 4----------------------------------------------\n",
      " flightID           | 980370cf27c89b40d2833a1d5afc9751 \n",
      " searchDate         | 2022-04-16                       \n",
      " searchMonth        | 04                               \n",
      " searchDay          | 16                               \n",
      " flightDate         | 2022-04-17                       \n",
      " flightMonth        | 04                               \n",
      " flightDay          | 17                               \n",
      " startingAirport    | ATL                              \n",
      " destinationAirport | BOS                              \n",
      " duration           | 154                              \n",
      " isEconomy          | false                            \n",
      " isRefundable       | false                            \n",
      " isNonStop          | true                             \n",
      " baseFare           | 217.67                           \n",
      " totalFare          | 248.6                            \n",
      " seatsRemaining     | 9                                \n",
      " travelDistance     | 947                              \n",
      "-RECORD 5----------------------------------------------\n",
      " flightID           | 79eda9f841e226a1e2121d74211e595c \n",
      " searchDate         | 2022-04-16                       \n",
      " searchMonth        | 04                               \n",
      " searchDay          | 16                               \n",
      " flightDate         | 2022-04-17                       \n",
      " flightMonth        | 04                               \n",
      " flightDay          | 17                               \n",
      " startingAirport    | ATL                              \n",
      " destinationAirport | BOS                              \n",
      " duration           | 158                              \n",
      " isEconomy          | false                            \n",
      " isRefundable       | false                            \n",
      " isNonStop          | true                             \n",
      " baseFare           | 217.67                           \n",
      " totalFare          | 248.6                            \n",
      " seatsRemaining     | 7                                \n",
      " travelDistance     | 947                              \n",
      "-RECORD 6----------------------------------------------\n",
      " flightID           | 9335fae376c38bb61263281779f469ec \n",
      " searchDate         | 2022-04-16                       \n",
      " searchMonth        | 04                               \n",
      " searchDay          | 16                               \n",
      " flightDate         | 2022-04-17                       \n",
      " flightMonth        | 04                               \n",
      " flightDay          | 17                               \n",
      " startingAirport    | ATL                              \n",
      " destinationAirport | BOS                              \n",
      " duration           | 252                              \n",
      " isEconomy          | false                            \n",
      " isRefundable       | false                            \n",
      " isNonStop          | false                            \n",
      " baseFare           | 213.02                           \n",
      " totalFare          | 251.1                            \n",
      " seatsRemaining     | 3                                \n",
      " travelDistance     | 956                              \n",
      "-RECORD 7----------------------------------------------\n",
      " flightID           | 3904bf87f2d1daf334f1ae7e3b876028 \n",
      " searchDate         | 2022-04-16                       \n",
      " searchMonth        | 04                               \n",
      " searchDay          | 16                               \n",
      " flightDate         | 2022-04-17                       \n",
      " flightMonth        | 04                               \n",
      " flightDay          | 17                               \n",
      " startingAirport    | ATL                              \n",
      " destinationAirport | BOS                              \n",
      " duration           | 318                              \n",
      " isEconomy          | false                            \n",
      " isRefundable       | false                            \n",
      " isNonStop          | false                            \n",
      " baseFare           | 213.02                           \n",
      " totalFare          | 251.1                            \n",
      " seatsRemaining     | 3                                \n",
      " travelDistance     | 956                              \n",
      "-RECORD 8----------------------------------------------\n",
      " flightID           | d93988734c44a3c075d9efe373352507 \n",
      " searchDate         | 2022-04-16                       \n",
      " searchMonth        | 04                               \n",
      " searchDay          | 16                               \n",
      " flightDate         | 2022-04-17                       \n",
      " flightMonth        | 04                               \n",
      " flightDay          | 17                               \n",
      " startingAirport    | ATL                              \n",
      " destinationAirport | BOS                              \n",
      " duration           | 332                              \n",
      " isEconomy          | false                            \n",
      " isRefundable       | false                            \n",
      " isNonStop          | false                            \n",
      " baseFare           | 213.02                           \n",
      " totalFare          | 251.1                            \n",
      " seatsRemaining     | 7                                \n",
      " travelDistance     | 956                              \n",
      "-RECORD 9----------------------------------------------\n",
      " flightID           | 562e7d5dd6ecbf1509c0c19711dbdca9 \n",
      " searchDate         | 2022-04-16                       \n",
      " searchMonth        | 04                               \n",
      " searchDay          | 16                               \n",
      " flightDate         | 2022-04-17                       \n",
      " flightMonth        | 04                               \n",
      " flightDay          | 17                               \n",
      " startingAirport    | ATL                              \n",
      " destinationAirport | BOS                              \n",
      " duration           | 398                              \n",
      " isEconomy          | false                            \n",
      " isRefundable       | false                            \n",
      " isNonStop          | false                            \n",
      " baseFare           | 213.02                           \n",
      " totalFare          | 251.1                            \n",
      " seatsRemaining     | 7                                \n",
      " travelDistance     | 956                              \n",
      "-RECORD 10---------------------------------------------\n",
      " flightID           | c38a6e4b807d15541e5866676febcbec \n",
      " searchDate         | 2022-04-16                       \n",
      " searchMonth        | 04                               \n",
      " searchDay          | 16                               \n",
      " flightDate         | 2022-04-17                       \n",
      " flightMonth        | 04                               \n",
      " flightDay          | 17                               \n",
      " startingAirport    | ATL                              \n",
      " destinationAirport | BOS                              \n",
      " duration           | 286                              \n",
      " isEconomy          | false                            \n",
      " isRefundable       | false                            \n",
      " isNonStop          | false                            \n",
      " baseFare           | 213.02                           \n",
      " totalFare          | 252.6                            \n",
      " seatsRemaining     | 1                                \n",
      " travelDistance     | 947                              \n",
      "-RECORD 11---------------------------------------------\n",
      " flightID           | f66d72ba3a526576608b8402b5720726 \n",
      " searchDate         | 2022-04-16                       \n",
      " searchMonth        | 04                               \n",
      " searchDay          | 16                               \n",
      " flightDate         | 2022-04-17                       \n",
      " flightMonth        | 04                               \n",
      " flightDay          | 17                               \n",
      " startingAirport    | ATL                              \n",
      " destinationAirport | BOS                              \n",
      " duration           | 345                              \n",
      " isEconomy          | false                            \n",
      " isRefundable       | false                            \n",
      " isNonStop          | false                            \n",
      " baseFare           | 213.02                           \n",
      " totalFare          | 252.6                            \n",
      " seatsRemaining     | 3                                \n",
      " travelDistance     | 1462                             \n",
      "-RECORD 12---------------------------------------------\n",
      " flightID           | e7c4054e85cca9bc7134b3cc93deaf7c \n",
      " searchDate         | 2022-04-16                       \n",
      " searchMonth        | 04                               \n",
      " searchDay          | 16                               \n",
      " flightDate         | 2022-04-17                       \n",
      " flightMonth        | 04                               \n",
      " flightDay          | 17                               \n",
      " startingAirport    | ATL                              \n",
      " destinationAirport | BOS                              \n",
      " duration           | 359                              \n",
      " isEconomy          | false                            \n",
      " isRefundable       | false                            \n",
      " isNonStop          | false                            \n",
      " baseFare           | 213.02                           \n",
      " totalFare          | 252.6                            \n",
      " seatsRemaining     | 5                                \n",
      " travelDistance     | 1462                             \n",
      "-RECORD 13---------------------------------------------\n",
      " flightID           | 5fa8c0f8b25eb24bf2ddc39a498bcc37 \n",
      " searchDate         | 2022-04-16                       \n",
      " searchMonth        | 04                               \n",
      " searchDay          | 16                               \n",
      " flightDate         | 2022-04-17                       \n",
      " flightMonth        | 04                               \n",
      " flightDay          | 17                               \n",
      " startingAirport    | ATL                              \n",
      " destinationAirport | BOS                              \n",
      " duration           | 438                              \n",
      " isEconomy          | false                            \n",
      " isRefundable       | false                            \n",
      " isNonStop          | false                            \n",
      " baseFare           | 213.02                           \n",
      " totalFare          | 252.6                            \n",
      " seatsRemaining     | 3                                \n",
      " travelDistance     | 1462                             \n",
      "-RECORD 14---------------------------------------------\n",
      " flightID           | 948d26b3e5658762cd62f842c87ae46e \n",
      " searchDate         | 2022-04-16                       \n",
      " searchMonth        | 04                               \n",
      " searchDay          | 16                               \n",
      " flightDate         | 2022-04-17                       \n",
      " flightMonth        | 04                               \n",
      " flightDay          | 17                               \n",
      " startingAirport    | ATL                              \n",
      " destinationAirport | BOS                              \n",
      " duration           | 490                              \n",
      " isEconomy          | false                            \n",
      " isRefundable       | false                            \n",
      " isNonStop          | false                            \n",
      " baseFare           | 213.02                           \n",
      " totalFare          | 252.6                            \n",
      " seatsRemaining     | 2                                \n",
      " travelDistance     | 1462                             \n",
      "-RECORD 15---------------------------------------------\n",
      " flightID           | cb345693479e84838dfaac346b8e8d6a \n",
      " searchDate         | 2022-04-16                       \n",
      " searchMonth        | 04                               \n",
      " searchDay          | 16                               \n",
      " flightDate         | 2022-04-17                       \n",
      " flightMonth        | 04                               \n",
      " flightDay          | 17                               \n",
      " startingAirport    | ATL                              \n",
      " destinationAirport | BOS                              \n",
      " duration           | 339                              \n",
      " isEconomy          | false                            \n",
      " isRefundable       | false                            \n",
      " isNonStop          | false                            \n",
      " baseFare           | 183.0                            \n",
      " totalFare          | 290.58                           \n",
      " seatsRemaining     | 0                                \n",
      " travelDistance     | 0                                \n",
      "-RECORD 16---------------------------------------------\n",
      " flightID           | e1b95e4e6c997517f64ba5ea712bda22 \n",
      " searchDate         | 2022-04-16                       \n",
      " searchMonth        | 04                               \n",
      " searchDay          | 16                               \n",
      " flightDate         | 2022-04-17                       \n",
      " flightMonth        | 04                               \n",
      " flightDay          | 17                               \n",
      " startingAirport    | ATL                              \n",
      " destinationAirport | BOS                              \n",
      " duration           | 158                              \n",
      " isEconomy          | false                            \n",
      " isRefundable       | false                            \n",
      " isNonStop          | true                             \n",
      " baseFare           | 265.58                           \n",
      " totalFare          | 300.1                            \n",
      " seatsRemaining     | 7                                \n",
      " travelDistance     | 947                              \n",
      "-RECORD 17---------------------------------------------\n",
      " flightID           | eaf033a044596f0a76b132a490927524 \n",
      " searchDate         | 2022-04-16                       \n",
      " searchMonth        | 04                               \n",
      " searchDay          | 16                               \n",
      " flightDate         | 2022-04-17                       \n",
      " flightMonth        | 04                               \n",
      " flightDay          | 17                               \n",
      " startingAirport    | ATL                              \n",
      " destinationAirport | BOS                              \n",
      " duration           | 257                              \n",
      " isEconomy          | false                            \n",
      " isRefundable       | false                            \n",
      " isNonStop          | false                            \n",
      " baseFare           | 260.47                           \n",
      " totalFare          | 302.11                           \n",
      " seatsRemaining     | 1                                \n",
      " travelDistance     | 956                              \n",
      "-RECORD 18---------------------------------------------\n",
      " flightID           | 721d9a2f66fe479e7c17b13e7ae0bb15 \n",
      " searchDate         | 2022-04-16                       \n",
      " searchMonth        | 04                               \n",
      " searchDay          | 16                               \n",
      " flightDate         | 2022-04-17                       \n",
      " flightMonth        | 04                               \n",
      " flightDay          | 17                               \n",
      " startingAirport    | ATL                              \n",
      " destinationAirport | BOS                              \n",
      " duration           | 276                              \n",
      " isEconomy          | false                            \n",
      " isRefundable       | false                            \n",
      " isNonStop          | false                            \n",
      " baseFare           | 260.47                           \n",
      " totalFare          | 302.11                           \n",
      " seatsRemaining     | 1                                \n",
      " travelDistance     | 956                              \n",
      "-RECORD 19---------------------------------------------\n",
      " flightID           | a9f012defb9227f69bf76617b47f4c51 \n",
      " searchDate         | 2022-04-16                       \n",
      " searchMonth        | 04                               \n",
      " searchDay          | 16                               \n",
      " flightDate         | 2022-04-17                       \n",
      " flightMonth        | 04                               \n",
      " flightDay          | 17                               \n",
      " startingAirport    | ATL                              \n",
      " destinationAirport | BOS                              \n",
      " duration           | 285                              \n",
      " isEconomy          | false                            \n",
      " isRefundable       | false                            \n",
      " isNonStop          | false                            \n",
      " baseFare           | 260.47                           \n",
      " totalFare          | 302.11                           \n",
      " seatsRemaining     | 1                                \n",
      " travelDistance     | 956                              \n",
      "-RECORD 20---------------------------------------------\n",
      " flightID           | 676e25bb0ec021d335241354b668c674 \n",
      " searchDate         | 2022-04-16                       \n",
      " searchMonth        | 04                               \n",
      " searchDay          | 16                               \n",
      " flightDate         | 2022-04-17                       \n",
      " flightMonth        | 04                               \n",
      " flightDay          | 17                               \n",
      " startingAirport    | ATL                              \n",
      " destinationAirport | BOS                              \n",
      " duration           | 362                              \n",
      " isEconomy          | false                            \n",
      " isRefundable       | false                            \n",
      " isNonStop          | false                            \n",
      " baseFare           | 260.47                           \n",
      " totalFare          | 302.11                           \n",
      " seatsRemaining     | 1                                \n",
      " travelDistance     | 956                              \n",
      "-RECORD 21---------------------------------------------\n",
      " flightID           | 712a4b5789013e5a4a3e499164309da8 \n",
      " searchDate         | 2022-04-16                       \n",
      " searchMonth        | 04                               \n",
      " searchDay          | 16                               \n",
      " flightDate         | 2022-04-17                       \n",
      " flightMonth        | 04                               \n",
      " flightDay          | 17                               \n",
      " startingAirport    | ATL                              \n",
      " destinationAirport | BOS                              \n",
      " duration           | 374                              \n",
      " isEconomy          | false                            \n",
      " isRefundable       | false                            \n",
      " isNonStop          | false                            \n",
      " baseFare           | 260.47                           \n",
      " totalFare          | 302.11                           \n",
      " seatsRemaining     | 1                                \n",
      " travelDistance     | 956                              \n",
      "-RECORD 22---------------------------------------------\n",
      " flightID           | a6a69aee2e8f75f9b12a5f6b60e65b59 \n",
      " searchDate         | 2022-04-16                       \n",
      " searchMonth        | 04                               \n",
      " searchDay          | 16                               \n",
      " flightDate         | 2022-04-17                       \n",
      " flightMonth        | 04                               \n",
      " flightDay          | 17                               \n",
      " startingAirport    | ATL                              \n",
      " destinationAirport | BOS                              \n",
      " duration           | 586                              \n",
      " isEconomy          | true                             \n",
      " isRefundable       | false                            \n",
      " isNonStop          | false                            \n",
      " baseFare           | 258.6                            \n",
      " totalFare          | 307.2                            \n",
      " seatsRemaining     | 9                                \n",
      " travelDistance     | 947                              \n",
      "-RECORD 23---------------------------------------------\n",
      " flightID           | fcf84a2b44a9fe185a4cebf5cee2e704 \n",
      " searchDate         | 2022-04-16                       \n",
      " searchMonth        | 04                               \n",
      " searchDay          | 16                               \n",
      " flightDate         | 2022-04-17                       \n",
      " flightMonth        | 04                               \n",
      " flightDay          | 17                               \n",
      " startingAirport    | ATL                              \n",
      " destinationAirport | BOS                              \n",
      " duration           | 661                              \n",
      " isEconomy          | true                             \n",
      " isRefundable       | false                            \n",
      " isNonStop          | false                            \n",
      " baseFare           | 258.6                            \n",
      " totalFare          | 307.2                            \n",
      " seatsRemaining     | 9                                \n",
      " travelDistance     | 947                              \n",
      "-RECORD 24---------------------------------------------\n",
      " flightID           | 178742e9c46c9627147449926f997622 \n",
      " searchDate         | 2022-04-16                       \n",
      " searchMonth        | 04                               \n",
      " searchDay          | 16                               \n",
      " flightDate         | 2022-04-17                       \n",
      " flightMonth        | 04                               \n",
      " flightDay          | 17                               \n",
      " startingAirport    | ATL                              \n",
      " destinationAirport | BOS                              \n",
      " duration           | 677                              \n",
      " isEconomy          | true                             \n",
      " isRefundable       | false                            \n",
      " isNonStop          | false                            \n",
      " baseFare           | 258.6                            \n",
      " totalFare          | 307.2                            \n",
      " seatsRemaining     | 9                                \n",
      " travelDistance     | 947                              \n",
      "-RECORD 25---------------------------------------------\n",
      " flightID           | 912ef0fbca3f88a86af24bdc1c1c6c0a \n",
      " searchDate         | 2022-04-16                       \n",
      " searchMonth        | 04                               \n",
      " searchDay          | 16                               \n",
      " flightDate         | 2022-04-17                       \n",
      " flightMonth        | 04                               \n",
      " flightDay          | 17                               \n",
      " startingAirport    | ATL                              \n",
      " destinationAirport | BOS                              \n",
      " duration           | 739                              \n",
      " isEconomy          | false                            \n",
      " isRefundable       | false                            \n",
      " isNonStop          | false                            \n",
      " baseFare           | 204.0                            \n",
      " totalFare          | 311.58                           \n",
      " seatsRemaining     | 0                                \n",
      " travelDistance     | 0                                \n",
      "-RECORD 26---------------------------------------------\n",
      " flightID           | 79c4a172ab07916313f5e8abec0bb1db \n",
      " searchDate         | 2022-04-16                       \n",
      " searchMonth        | 04                               \n",
      " searchDay          | 16                               \n",
      " flightDate         | 2022-04-17                       \n",
      " flightMonth        | 04                               \n",
      " flightDay          | 17                               \n",
      " startingAirport    | ATL                              \n",
      " destinationAirport | BOS                              \n",
      " duration           | 377                              \n",
      " isEconomy          | false                            \n",
      " isRefundable       | false                            \n",
      " isNonStop          | false                            \n",
      " baseFare           | 274.42                           \n",
      " totalFare          | 318.6                            \n",
      " seatsRemaining     | 1                                \n",
      " travelDistance     | 1462                             \n",
      "-RECORD 27---------------------------------------------\n",
      " flightID           | 9863a0e6a923c09fab658b038299c8d5 \n",
      " searchDate         | 2022-04-16                       \n",
      " searchMonth        | 04                               \n",
      " searchDay          | 16                               \n",
      " flightDate         | 2022-04-17                       \n",
      " flightMonth        | 04                               \n",
      " flightDay          | 17                               \n",
      " startingAirport    | ATL                              \n",
      " destinationAirport | BOS                              \n",
      " duration           | 385                              \n",
      " isEconomy          | false                            \n",
      " isRefundable       | false                            \n",
      " isNonStop          | false                            \n",
      " baseFare           | 274.42                           \n",
      " totalFare          | 318.6                            \n",
      " seatsRemaining     | 1                                \n",
      " travelDistance     | 1462                             \n",
      "-RECORD 28---------------------------------------------\n",
      " flightID           | 9401afa39f1ad4275c73a66786500992 \n",
      " searchDate         | 2022-04-16                       \n",
      " searchMonth        | 04                               \n",
      " searchDay          | 16                               \n",
      " flightDate         | 2022-04-17                       \n",
      " flightMonth        | 04                               \n",
      " flightDay          | 17                               \n",
      " startingAirport    | ATL                              \n",
      " destinationAirport | BOS                              \n",
      " duration           | 152                              \n",
      " isEconomy          | false                            \n",
      " isRefundable       | false                            \n",
      " isNonStop          | true                             \n",
      " baseFare           | 292.09                           \n",
      " totalFare          | 328.6                            \n",
      " seatsRemaining     | 9                                \n",
      " travelDistance     | 947                              \n",
      "-RECORD 29---------------------------------------------\n",
      " flightID           | 24c07cf38de8a7a0ed2d7709168042a8 \n",
      " searchDate         | 2022-04-16                       \n",
      " searchMonth        | 04                               \n",
      " searchDay          | 16                               \n",
      " flightDate         | 2022-04-17                       \n",
      " flightMonth        | 04                               \n",
      " flightDay          | 17                               \n",
      " startingAirport    | ATL                              \n",
      " destinationAirport | BOS                              \n",
      " duration           | 164                              \n",
      " isEconomy          | false                            \n",
      " isRefundable       | false                            \n",
      " isNonStop          | true                             \n",
      " baseFare           | 316.73                           \n",
      " totalFare          | 355.09                           \n",
      " seatsRemaining     | 7                                \n",
      " travelDistance     | 947                              \n",
      "-RECORD 30---------------------------------------------\n",
      " flightID           | 5c132806994b4b0c7c87b90a7d1dfa2c \n",
      " searchDate         | 2022-04-16                       \n",
      " searchMonth        | 04                               \n",
      " searchDay          | 16                               \n",
      " flightDate         | 2022-04-17                       \n",
      " flightMonth        | 04                               \n",
      " flightDay          | 17                               \n",
      " startingAirport    | ATL                              \n",
      " destinationAirport | BOS                              \n",
      " duration           | 153                              \n",
      " isEconomy          | false                            \n",
      " isRefundable       | false                            \n",
      " isNonStop          | true                             \n",
      " baseFare           | 357.21                           \n",
      " totalFare          | 398.6                            \n",
      " seatsRemaining     | 9                                \n",
      " travelDistance     | 947                              \n",
      "-RECORD 31---------------------------------------------\n",
      " flightID           | 43eaa7e045b3e8a3157e5e38a31696c9 \n",
      " searchDate         | 2022-04-16                       \n",
      " searchMonth        | 04                               \n",
      " searchDay          | 16                               \n",
      " flightDate         | 2022-04-17                       \n",
      " flightMonth        | 04                               \n",
      " flightDay          | 17                               \n",
      " startingAirport    | ATL                              \n",
      " destinationAirport | BOS                              \n",
      " duration           | 155                              \n",
      " isEconomy          | false                            \n",
      " isRefundable       | false                            \n",
      " isNonStop          | true                             \n",
      " baseFare           | 357.21                           \n",
      " totalFare          | 398.6                            \n",
      " seatsRemaining     | 2                                \n",
      " travelDistance     | 947                              \n",
      "-RECORD 32---------------------------------------------\n",
      " flightID           | 4228d70f70f9ebd1f8cbea9bda172e74 \n",
      " searchDate         | 2022-04-16                       \n",
      " searchMonth        | 04                               \n",
      " searchDay          | 16                               \n",
      " flightDate         | 2022-04-17                       \n",
      " flightMonth        | 04                               \n",
      " flightDay          | 17                               \n",
      " startingAirport    | ATL                              \n",
      " destinationAirport | BOS                              \n",
      " duration           | 158                              \n",
      " isEconomy          | false                            \n",
      " isRefundable       | false                            \n",
      " isNonStop          | true                             \n",
      " baseFare           | 357.21                           \n",
      " totalFare          | 398.6                            \n",
      " seatsRemaining     | 9                                \n",
      " travelDistance     | 947                              \n",
      "-RECORD 33---------------------------------------------\n",
      " flightID           | f089dc3fa43d8a196213d2140b766d55 \n",
      " searchDate         | 2022-04-16                       \n",
      " searchMonth        | 04                               \n",
      " searchDay          | 16                               \n",
      " flightDate         | 2022-04-17                       \n",
      " flightMonth        | 04                               \n",
      " flightDay          | 17                               \n",
      " startingAirport    | ATL                              \n",
      " destinationAirport | BOS                              \n",
      " duration           | 280                              \n",
      " isEconomy          | false                            \n",
      " isRefundable       | false                            \n",
      " isNonStop          | false                            \n",
      " baseFare           | 356.28                           \n",
      " totalFare          | 406.6                            \n",
      " seatsRemaining     | 1                                \n",
      " travelDistance     | 947                              \n",
      "-RECORD 34---------------------------------------------\n",
      " flightID           | 15ba869216430a466549c8efcd3bb109 \n",
      " searchDate         | 2022-04-16                       \n",
      " searchMonth        | 04                               \n",
      " searchDay          | 16                               \n",
      " flightDate         | 2022-04-17                       \n",
      " flightMonth        | 04                               \n",
      " flightDay          | 17                               \n",
      " startingAirport    | ATL                              \n",
      " destinationAirport | BOS                              \n",
      " duration           | 325                              \n",
      " isEconomy          | false                            \n",
      " isRefundable       | false                            \n",
      " isNonStop          | false                            \n",
      " baseFare           | 356.28                           \n",
      " totalFare          | 406.6                            \n",
      " seatsRemaining     | 1                                \n",
      " travelDistance     | 947                              \n",
      "-RECORD 35---------------------------------------------\n",
      " flightID           | 68063b78f62c81ac88820015908ac208 \n",
      " searchDate         | 2022-04-16                       \n",
      " searchMonth        | 04                               \n",
      " searchDay          | 16                               \n",
      " flightDate         | 2022-04-17                       \n",
      " flightMonth        | 04                               \n",
      " flightDay          | 17                               \n",
      " startingAirport    | ATL                              \n",
      " destinationAirport | BOS                              \n",
      " duration           | 164                              \n",
      " isEconomy          | false                            \n",
      " isRefundable       | false                            \n",
      " isNonStop          | true                             \n",
      " baseFare           | 367.98                           \n",
      " totalFare          | 410.18                           \n",
      " seatsRemaining     | 1                                \n",
      " travelDistance     | 947                              \n",
      "-RECORD 36---------------------------------------------\n",
      " flightID           | 758560f5ea68263f52f418286c8d6b7d \n",
      " searchDate         | 2022-04-16                       \n",
      " searchMonth        | 04                               \n",
      " searchDay          | 16                               \n",
      " flightDate         | 2022-04-17                       \n",
      " flightMonth        | 04                               \n",
      " flightDay          | 17                               \n",
      " startingAirport    | ATL                              \n",
      " destinationAirport | BOS                              \n",
      " duration           | 326                              \n",
      " isEconomy          | false                            \n",
      " isRefundable       | false                            \n",
      " isNonStop          | false                            \n",
      " baseFare           | 453.95                           \n",
      " totalFare          | 511.6                            \n",
      " seatsRemaining     | 1                                \n",
      " travelDistance     | 947                              \n",
      "-RECORD 37---------------------------------------------\n",
      " flightID           | d3f144017875166ea860f4929a528fed \n",
      " searchDate         | 2022-04-16                       \n",
      " searchMonth        | 04                               \n",
      " searchDay          | 16                               \n",
      " flightDate         | 2022-04-17                       \n",
      " flightMonth        | 04                               \n",
      " flightDay          | 17                               \n",
      " startingAirport    | ATL                              \n",
      " destinationAirport | CLT                              \n",
      " duration           | 385                              \n",
      " isEconomy          | false                            \n",
      " isRefundable       | false                            \n",
      " isNonStop          | false                            \n",
      " baseFare           | 338.6                            \n",
      " totalFare          | 387.6                            \n",
      " seatsRemaining     | 1                                \n",
      " travelDistance     | 1192                             \n",
      "-RECORD 38---------------------------------------------\n",
      " flightID           | 8a6ab300fc0b1f1aa1da065091f878fb \n",
      " searchDate         | 2022-04-16                       \n",
      " searchMonth        | 04                               \n",
      " searchDay          | 16                               \n",
      " flightDate         | 2022-04-17                       \n",
      " flightMonth        | 04                               \n",
      " flightDay          | 17                               \n",
      " startingAirport    | ATL                              \n",
      " destinationAirport | CLT                              \n",
      " duration           | 263                              \n",
      " isEconomy          | false                            \n",
      " isRefundable       | false                            \n",
      " isNonStop          | false                            \n",
      " baseFare           | 339.53                           \n",
      " totalFare          | 388.6                            \n",
      " seatsRemaining     | 2                                \n",
      " travelDistance     | 868                              \n",
      "-RECORD 39---------------------------------------------\n",
      " flightID           | 33dba4888a3a68195d53ec2cc8b0a2d6 \n",
      " searchDate         | 2022-04-16                       \n",
      " searchMonth        | 04                               \n",
      " searchDay          | 16                               \n",
      " flightDate         | 2022-04-17                       \n",
      " flightMonth        | 04                               \n",
      " flightDay          | 17                               \n",
      " startingAirport    | ATL                              \n",
      " destinationAirport | CLT                              \n",
      " duration           | 68                               \n",
      " isEconomy          | false                            \n",
      " isRefundable       | false                            \n",
      " isNonStop          | true                             \n",
      " baseFare           | 357.21                           \n",
      " totalFare          | 398.6                            \n",
      " seatsRemaining     | 6                                \n",
      " travelDistance     | 228                              \n",
      "-RECORD 40---------------------------------------------\n",
      " flightID           | c845939967043028ed636265d9858c98 \n",
      " searchDate         | 2022-04-16                       \n",
      " searchMonth        | 04                               \n",
      " searchDay          | 16                               \n",
      " flightDate         | 2022-04-17                       \n",
      " flightMonth        | 04                               \n",
      " flightDay          | 17                               \n",
      " startingAirport    | ATL                              \n",
      " destinationAirport | CLT                              \n",
      " duration           | 70                               \n",
      " isEconomy          | false                            \n",
      " isRefundable       | false                            \n",
      " isNonStop          | true                             \n",
      " baseFare           | 357.21                           \n",
      " totalFare          | 398.6                            \n",
      " seatsRemaining     | 6                                \n",
      " travelDistance     | 228                              \n",
      "-RECORD 41---------------------------------------------\n",
      " flightID           | ce7fc430dda2de28280b107bbd9bdde9 \n",
      " searchDate         | 2022-04-16                       \n",
      " searchMonth        | 04                               \n",
      " searchDay          | 16                               \n",
      " flightDate         | 2022-04-17                       \n",
      " flightMonth        | 04                               \n",
      " flightDay          | 17                               \n",
      " startingAirport    | ATL                              \n",
      " destinationAirport | CLT                              \n",
      " duration           | 71                               \n",
      " isEconomy          | false                            \n",
      " isRefundable       | false                            \n",
      " isNonStop          | true                             \n",
      " baseFare           | 357.21                           \n",
      " totalFare          | 398.6                            \n",
      " seatsRemaining     | 9                                \n",
      " travelDistance     | 228                              \n",
      "-RECORD 42---------------------------------------------\n",
      " flightID           | 755bc876091cb5997260bd99361b9e8e \n",
      " searchDate         | 2022-04-16                       \n",
      " searchMonth        | 04                               \n",
      " searchDay          | 16                               \n",
      " flightDate         | 2022-04-17                       \n",
      " flightMonth        | 04                               \n",
      " flightDay          | 17                               \n",
      " startingAirport    | ATL                              \n",
      " destinationAirport | CLT                              \n",
      " duration           | 71                               \n",
      " isEconomy          | false                            \n",
      " isRefundable       | false                            \n",
      " isNonStop          | true                             \n",
      " baseFare           | 357.21                           \n",
      " totalFare          | 398.6                            \n",
      " seatsRemaining     | 9                                \n",
      " travelDistance     | 228                              \n",
      "-RECORD 43---------------------------------------------\n",
      " flightID           | 37fa5869a691efc56a308dc636280c68 \n",
      " searchDate         | 2022-04-16                       \n",
      " searchMonth        | 04                               \n",
      " searchDay          | 16                               \n",
      " flightDate         | 2022-04-17                       \n",
      " flightMonth        | 04                               \n",
      " flightDay          | 17                               \n",
      " startingAirport    | ATL                              \n",
      " destinationAirport | CLT                              \n",
      " duration           | 73                               \n",
      " isEconomy          | false                            \n",
      " isRefundable       | false                            \n",
      " isNonStop          | true                             \n",
      " baseFare           | 357.21                           \n",
      " totalFare          | 398.6                            \n",
      " seatsRemaining     | 4                                \n",
      " travelDistance     | 228                              \n",
      "-RECORD 44---------------------------------------------\n",
      " flightID           | e121392f988f65cb003643978e5c68d8 \n",
      " searchDate         | 2022-04-16                       \n",
      " searchMonth        | 04                               \n",
      " searchDay          | 16                               \n",
      " flightDate         | 2022-04-17                       \n",
      " flightMonth        | 04                               \n",
      " flightDay          | 17                               \n",
      " startingAirport    | ATL                              \n",
      " destinationAirport | CLT                              \n",
      " duration           | 74                               \n",
      " isEconomy          | false                            \n",
      " isRefundable       | false                            \n",
      " isNonStop          | true                             \n",
      " baseFare           | 357.21                           \n",
      " totalFare          | 398.6                            \n",
      " seatsRemaining     | 9                                \n",
      " travelDistance     | 228                              \n",
      "-RECORD 45---------------------------------------------\n",
      " flightID           | 0f4f714611896ddd63accedfa9050cd9 \n",
      " searchDate         | 2022-04-16                       \n",
      " searchMonth        | 04                               \n",
      " searchDay          | 16                               \n",
      " flightDate         | 2022-04-17                       \n",
      " flightMonth        | 04                               \n",
      " flightDay          | 17                               \n",
      " startingAirport    | ATL                              \n",
      " destinationAirport | CLT                              \n",
      " duration           | 74                               \n",
      " isEconomy          | false                            \n",
      " isRefundable       | false                            \n",
      " isNonStop          | true                             \n",
      " baseFare           | 357.21                           \n",
      " totalFare          | 398.6                            \n",
      " seatsRemaining     | 3                                \n",
      " travelDistance     | 228                              \n",
      "-RECORD 46---------------------------------------------\n",
      " flightID           | 270a3e706e403f1d6d383c127d1647e9 \n",
      " searchDate         | 2022-04-16                       \n",
      " searchMonth        | 04                               \n",
      " searchDay          | 16                               \n",
      " flightDate         | 2022-04-17                       \n",
      " flightMonth        | 04                               \n",
      " flightDay          | 17                               \n",
      " startingAirport    | ATL                              \n",
      " destinationAirport | CLT                              \n",
      " duration           | 77                               \n",
      " isEconomy          | false                            \n",
      " isRefundable       | false                            \n",
      " isNonStop          | true                             \n",
      " baseFare           | 357.21                           \n",
      " totalFare          | 398.6                            \n",
      " seatsRemaining     | 4                                \n",
      " travelDistance     | 228                              \n",
      "-RECORD 47---------------------------------------------\n",
      " flightID           | 99666577c217e0a6b54a17e2f8ab9a7b \n",
      " searchDate         | 2022-04-16                       \n",
      " searchMonth        | 04                               \n",
      " searchDay          | 16                               \n",
      " flightDate         | 2022-04-17                       \n",
      " flightMonth        | 04                               \n",
      " flightDay          | 17                               \n",
      " startingAirport    | ATL                              \n",
      " destinationAirport | CLT                              \n",
      " duration           | 81                               \n",
      " isEconomy          | false                            \n",
      " isRefundable       | false                            \n",
      " isNonStop          | true                             \n",
      " baseFare           | 357.21                           \n",
      " totalFare          | 398.6                            \n",
      " seatsRemaining     | 7                                \n",
      " travelDistance     | 228                              \n",
      "-RECORD 48---------------------------------------------\n",
      " flightID           | dc2eda19b0499170f1f7f8c5a179ac07 \n",
      " searchDate         | 2022-04-16                       \n",
      " searchMonth        | 04                               \n",
      " searchDay          | 16                               \n",
      " flightDate         | 2022-04-17                       \n",
      " flightMonth        | 04                               \n",
      " flightDay          | 17                               \n",
      " startingAirport    | ATL                              \n",
      " destinationAirport | CLT                              \n",
      " duration           | 82                               \n",
      " isEconomy          | false                            \n",
      " isRefundable       | false                            \n",
      " isNonStop          | true                             \n",
      " baseFare           | 357.21                           \n",
      " totalFare          | 398.6                            \n",
      " seatsRemaining     | 1                                \n",
      " travelDistance     | 228                              \n",
      "-RECORD 49---------------------------------------------\n",
      " flightID           | a3538341dedeb12798f130dd6c1e1e01 \n",
      " searchDate         | 2022-04-16                       \n",
      " searchMonth        | 04                               \n",
      " searchDay          | 16                               \n",
      " flightDate         | 2022-04-17                       \n",
      " flightMonth        | 04                               \n",
      " flightDay          | 17                               \n",
      " startingAirport    | ATL                              \n",
      " destinationAirport | CLT                              \n",
      " duration           | 86                               \n",
      " isEconomy          | false                            \n",
      " isRefundable       | false                            \n",
      " isNonStop          | true                             \n",
      " baseFare           | 357.21                           \n",
      " totalFare          | 398.6                            \n",
      " seatsRemaining     | 3                                \n",
      " travelDistance     | 228                              \n",
      "-RECORD 50---------------------------------------------\n",
      " flightID           | c1b459e641c768522054510f828fef9c \n",
      " searchDate         | 2022-04-16                       \n",
      " searchMonth        | 04                               \n",
      " searchDay          | 16                               \n",
      " flightDate         | 2022-04-17                       \n",
      " flightMonth        | 04                               \n",
      " flightDay          | 17                               \n",
      " startingAirport    | ATL                              \n",
      " destinationAirport | CLT                              \n",
      " duration           | 90                               \n",
      " isEconomy          | false                            \n",
      " isRefundable       | false                            \n",
      " isNonStop          | true                             \n",
      " baseFare           | 357.21                           \n",
      " totalFare          | 398.6                            \n",
      " seatsRemaining     | 4                                \n",
      " travelDistance     | 228                              \n",
      "-RECORD 51---------------------------------------------\n",
      " flightID           | eb1f503b7ddf16f50c7214ed53fa9409 \n",
      " searchDate         | 2022-04-16                       \n",
      " searchMonth        | 04                               \n",
      " searchDay          | 16                               \n",
      " flightDate         | 2022-04-17                       \n",
      " flightMonth        | 04                               \n",
      " flightDay          | 17                               \n",
      " startingAirport    | ATL                              \n",
      " destinationAirport | CLT                              \n",
      " duration           | 657                              \n",
      " isEconomy          | false                            \n",
      " isRefundable       | false                            \n",
      " isNonStop          | false                            \n",
      " baseFare           | 349.76                           \n",
      " totalFare          | 405.19                           \n",
      " seatsRemaining     | 1                                \n",
      " travelDistance     | 1192                             \n",
      "-RECORD 52---------------------------------------------\n",
      " flightID           | 2f16eb22d9347d4122949c3fb0a93445 \n",
      " searchDate         | 2022-04-16                       \n",
      " searchMonth        | 04                               \n",
      " searchDay          | 16                               \n",
      " flightDate         | 2022-04-17                       \n",
      " flightMonth        | 04                               \n",
      " flightDay          | 17                               \n",
      " startingAirport    | ATL                              \n",
      " destinationAirport | CLT                              \n",
      " duration           | 306                              \n",
      " isEconomy          | false                            \n",
      " isRefundable       | false                            \n",
      " isNonStop          | false                            \n",
      " baseFare           | 436.28                           \n",
      " totalFare          | 492.6                            \n",
      " seatsRemaining     | 1                                \n",
      " travelDistance     | 1307                             \n",
      "-RECORD 53---------------------------------------------\n",
      " flightID           | cc7ca757dcd0ff76b2f0b4eb37419886 \n",
      " searchDate         | 2022-04-16                       \n",
      " searchMonth        | 04                               \n",
      " searchDay          | 16                               \n",
      " flightDate         | 2022-04-17                       \n",
      " flightMonth        | 04                               \n",
      " flightDay          | 17                               \n",
      " startingAirport    | ATL                              \n",
      " destinationAirport | CLT                              \n",
      " duration           | 352                              \n",
      " isEconomy          | false                            \n",
      " isRefundable       | false                            \n",
      " isNonStop          | false                            \n",
      " baseFare           | 436.28                           \n",
      " totalFare          | 492.6                            \n",
      " seatsRemaining     | 1                                \n",
      " travelDistance     | 1307                             \n",
      "-RECORD 54---------------------------------------------\n",
      " flightID           | 530b3a529421fba4f8b0acea9ecd03b0 \n",
      " searchDate         | 2022-04-16                       \n",
      " searchMonth        | 04                               \n",
      " searchDay          | 16                               \n",
      " flightDate         | 2022-04-17                       \n",
      " flightMonth        | 04                               \n",
      " flightDay          | 17                               \n",
      " startingAirport    | ATL                              \n",
      " destinationAirport | CLT                              \n",
      " duration           | 508                              \n",
      " isEconomy          | false                            \n",
      " isRefundable       | false                            \n",
      " isNonStop          | false                            \n",
      " baseFare           | 436.28                           \n",
      " totalFare          | 492.6                            \n",
      " seatsRemaining     | 1                                \n",
      " travelDistance     | 1307                             \n",
      "-RECORD 55---------------------------------------------\n",
      " flightID           | adf4519f6153567d3fc4631363fb669a \n",
      " searchDate         | 2022-04-16                       \n",
      " searchMonth        | 04                               \n",
      " searchDay          | 16                               \n",
      " flightDate         | 2022-04-17                       \n",
      " flightMonth        | 04                               \n",
      " flightDay          | 17                               \n",
      " startingAirport    | ATL                              \n",
      " destinationAirport | CLT                              \n",
      " duration           | 588                              \n",
      " isEconomy          | false                            \n",
      " isRefundable       | false                            \n",
      " isNonStop          | false                            \n",
      " baseFare           | 436.28                           \n",
      " totalFare          | 498.2                            \n",
      " seatsRemaining     | 1                                \n",
      " travelDistance     | 1307                             \n",
      "-RECORD 56---------------------------------------------\n",
      " flightID           | 1b2084397393607a0944ac52ea3f3075 \n",
      " searchDate         | 2022-04-16                       \n",
      " searchMonth        | 04                               \n",
      " searchDay          | 16                               \n",
      " flightDate         | 2022-04-17                       \n",
      " flightMonth        | 04                               \n",
      " flightDay          | 17                               \n",
      " startingAirport    | ATL                              \n",
      " destinationAirport | CLT                              \n",
      " duration           | 731                              \n",
      " isEconomy          | false                            \n",
      " isRefundable       | false                            \n",
      " isNonStop          | false                            \n",
      " baseFare           | 436.28                           \n",
      " totalFare          | 498.2                            \n",
      " seatsRemaining     | 1                                \n",
      " travelDistance     | 1307                             \n",
      "-RECORD 57---------------------------------------------\n",
      " flightID           | a291a2b5ac19223c3407cfec58d1fc24 \n",
      " searchDate         | 2022-04-16                       \n",
      " searchMonth        | 04                               \n",
      " searchDay          | 16                               \n",
      " flightDate         | 2022-04-17                       \n",
      " flightMonth        | 04                               \n",
      " flightDay          | 17                               \n",
      " startingAirport    | ATL                              \n",
      " destinationAirport | CLT                              \n",
      " duration           | 528                              \n",
      " isEconomy          | false                            \n",
      " isRefundable       | false                            \n",
      " isNonStop          | false                            \n",
      " baseFare           | 482.79                           \n",
      " totalFare          | 542.6                            \n",
      " seatsRemaining     | 7                                \n",
      " travelDistance     | 1675                             \n",
      "-RECORD 58---------------------------------------------\n",
      " flightID           | 010e9d6cf62242862111a515d5f47f5d \n",
      " searchDate         | 2022-04-16                       \n",
      " searchMonth        | 04                               \n",
      " searchDay          | 16                               \n",
      " flightDate         | 2022-04-17                       \n",
      " flightMonth        | 04                               \n",
      " flightDay          | 17                               \n",
      " startingAirport    | ATL                              \n",
      " destinationAirport | CLT                              \n",
      " duration           | 86                               \n",
      " isEconomy          | false                            \n",
      " isRefundable       | false                            \n",
      " isNonStop          | true                             \n",
      " baseFare           | 506.98                           \n",
      " totalFare          | 559.6                            \n",
      " seatsRemaining     | 1                                \n",
      " travelDistance     | 228                              \n",
      "-RECORD 59---------------------------------------------\n",
      " flightID           | 3a3a69378bf84af8c2bbd5363f9e6641 \n",
      " searchDate         | 2022-04-16                       \n",
      " searchMonth        | 04                               \n",
      " searchDay          | 16                               \n",
      " flightDate         | 2022-04-17                       \n",
      " flightMonth        | 04                               \n",
      " flightDay          | 17                               \n",
      " startingAirport    | ATL                              \n",
      " destinationAirport | CLT                              \n",
      " duration           | 12                               \n",
      " isEconomy          | false                            \n",
      " isRefundable       | false                            \n",
      " isNonStop          | false                            \n",
      " baseFare           | 528.37                           \n",
      " totalFare          | 597.2                            \n",
      " seatsRemaining     | 1                                \n",
      " travelDistance     | 1307                             \n",
      "only showing top 60 rows\n",
      "\n"
     ]
    }
   ],
   "source": [
    "import spark.implicits._\n",
    "\n",
    "val columns = Seq(\"flightID\",\n",
    "                  \"searchDate\",\n",
    "                  \"searchMonth\",\n",
    "                  \"searchDay\",\n",
    "                  \"flightDate\",\n",
    "                  \"flightMonth\",\n",
    "                  \"flightDay\",\n",
    "                  \"startingAirport\",\n",
    "                  \"destinationAirport\",\n",
    "                  \"duration\",\n",
    "                  \"isEconomy\",\n",
    "                  \"isRefundable\",\n",
    "                  \"isNonStop\",\n",
    "                  \"baseFare\",\n",
    "                  \"totalFare\",\n",
    "                  \"seatsRemaining\",\n",
    "                  \"travelDistance\")\n",
    "\n",
    "val flightDataframe = rddFlights.toDF(columns:_*)\n",
    "flightDataframe.show(60,truncate=40,vertical=true)"
   ]
  },
  {
   "cell_type": "markdown",
   "id": "1b2d9b98",
   "metadata": {},
   "source": [
    "#### Ignore flights for which there are not at least 7 days of difference between the searchDate and the flightDate"
   ]
  },
  {
   "cell_type": "code",
   "execution_count": 3,
   "id": "1ffbfe4c",
   "metadata": {
    "scrolled": true
   },
   "outputs": [
    {
     "data": {
      "application/vnd.jupyter.widget-view+json": {
       "model_id": "08d6dd80fc1f4724abd031bcfdb7fa59",
       "version_major": 2,
       "version_minor": 0
      },
      "text/plain": [
       "VBox()"
      ]
     },
     "metadata": {},
     "output_type": "display_data"
    },
    {
     "data": {
      "application/vnd.jupyter.widget-view+json": {
       "model_id": "",
       "version_major": 2,
       "version_minor": 0
      },
      "text/plain": [
       "FloatProgress(value=0.0, bar_style='info', description='Progress:', layout=Layout(height='25px', width='50%'),…"
      ]
     },
     "metadata": {},
     "output_type": "display_data"
    },
    {
     "name": "stdout",
     "output_type": "stream",
     "text": [
      "import java.time.temporal.ChronoUnit.DAYS\n",
      "import java.time.LocalDate\n",
      "enoughData: (x: FlightData)Long\n",
      "rddFlightsFiltered: org.apache.spark.rdd.RDD[FlightData] = MapPartitionsRDD[4] at filter at <console>:30\n"
     ]
    }
   ],
   "source": [
    "/** import java.time.format.DateTimeFormatter\n",
    "import java.time.LocalDateTime\n",
    "import java.time.Duration */\n",
    "import java.time.temporal.ChronoUnit.DAYS\n",
    "import java.time.LocalDate\n",
    "\n",
    "//type rddType = (String,String,String,String,String,String,String,String,String,Int,Boolean,Boolean,Boolean,Double,Double,Int,Int)\n",
    "\n",
    "def enoughData(x: FlightData): Long = {\n",
    "        val searchDate = LocalDate.parse(x.searchDate);\n",
    "        val flightDate = LocalDate.parse(x.flightDate);\n",
    "        val daysBetween = DAYS.between(searchDate, flightDate);\n",
    "        daysBetween\n",
    "}\n",
    "\n",
    "val rddFlightsFiltered = rddFlights.filter(x => enoughData(x) >= 7)\n",
    "// rddFlightsFiltered.count() // 82138753 in RDD, 71823816 in RDD filtered "
   ]
  },
  {
   "cell_type": "code",
   "execution_count": 4,
   "id": "44449cef",
   "metadata": {},
   "outputs": [
    {
     "data": {
      "application/vnd.jupyter.widget-view+json": {
       "model_id": "033d63a90d184b57b71bfcda6b3bc5e7",
       "version_major": 2,
       "version_minor": 0
      },
      "text/plain": [
       "VBox()"
      ]
     },
     "metadata": {},
     "output_type": "display_data"
    },
    {
     "data": {
      "application/vnd.jupyter.widget-view+json": {
       "model_id": "",
       "version_major": 2,
       "version_minor": 0
      },
      "text/plain": [
       "FloatProgress(value=0.0, bar_style='info', description='Progress:', layout=Layout(height='25px', width='50%'),…"
      ]
     },
     "metadata": {},
     "output_type": "display_data"
    },
    {
     "name": "stdout",
     "output_type": "stream",
     "text": [
      "res14: Array[FlightData] = Array(FlightData(15f52084c28c42240e43aec635b05057,2022-04-16,04,16,2022-04-23,04,23,ATL,BOS,150,false,false,true,204.0,260.59,0,0), FlightData(ba0813f32f5d4416d272100c19ff0c7e,2022-04-16,04,16,2022-04-23,04,23,ATL,BOS,150,false,false,true,338.6,378.6,3,947), FlightData(b3ba48077c67f201e0fbfefbfc18a1cb,2022-04-16,04,16,2022-04-23,04,23,ATL,BOS,301,false,false,false,386.05,438.6,2,947), FlightData(84ff1dbb7ffc6b36feb6bf6650be62e1,2022-04-16,04,16,2022-04-23,04,23,ATL,BOS,280,false,false,false,395.35,448.6,3,947), FlightData(9ee247d2537e717a034b3542ef2922d2,2022-04-16,04,16,2022-04-23,04,23,ATL,BOS,150,false,false,true,431.63,478.6,2,947), FlightData(4e5f81483c4d7a4c2ac56e20c8f1d111,2022-04-16,04,16,2022-04-23,04,23,ATL,BOS,276,false,false,false,486.51,545.1,3,95..."
     ]
    }
   ],
   "source": [
    "rddFlightsFiltered.take(10)"
   ]
  },
  {
   "cell_type": "markdown",
   "id": "e8fdf60d",
   "metadata": {},
   "source": [
    "## Data Exploration"
   ]
  },
  {
   "cell_type": "code",
   "execution_count": 6,
   "id": "b6649354",
   "metadata": {},
   "outputs": [
    {
     "data": {
      "application/vnd.jupyter.widget-view+json": {
       "model_id": "535e2898a1f44a959414602521034bef",
       "version_major": 2,
       "version_minor": 0
      },
      "text/plain": [
       "VBox()"
      ]
     },
     "metadata": {},
     "output_type": "display_data"
    },
    {
     "data": {
      "application/vnd.jupyter.widget-view+json": {
       "model_id": "",
       "version_major": 2,
       "version_minor": 0
      },
      "text/plain": [
       "FloatProgress(value=0.0, bar_style='info', description='Progress:', layout=Layout(height='25px', width='50%'),…"
      ]
     },
     "metadata": {},
     "output_type": "display_data"
    },
    {
     "name": "stdout",
     "output_type": "stream",
     "text": [
      "rddFlightsFilteredCached: rddFlightsFiltered.type = MapPartitionsRDD[4] at filter at <console>:30\n"
     ]
    }
   ],
   "source": [
    "val rddFlightsFilteredCached = rddFlightsFiltered.cache()"
   ]
  },
  {
   "cell_type": "code",
   "execution_count": 14,
   "id": "109bf983",
   "metadata": {},
   "outputs": [
    {
     "data": {
      "application/vnd.jupyter.widget-view+json": {
       "model_id": "e8ea57efc68c4c7d8cba9eae97071af8",
       "version_major": 2,
       "version_minor": 0
      },
      "text/plain": [
       "VBox()"
      ]
     },
     "metadata": {},
     "output_type": "display_data"
    },
    {
     "data": {
      "application/vnd.jupyter.widget-view+json": {
       "model_id": "",
       "version_major": 2,
       "version_minor": 0
      },
      "text/plain": [
       "FloatProgress(value=0.0, bar_style='info', description='Progress:', layout=Layout(height='25px', width='50%'),…"
      ]
     },
     "metadata": {},
     "output_type": "display_data"
    },
    {
     "name": "stdout",
     "output_type": "stream",
     "text": [
      "rddDistinctFlights: org.apache.spark.rdd.RDD[String] = MapPartitionsRDD[34] at distinct at <console>:28\n",
      "res83: String = Number of direct flights: 625655\n"
     ]
    }
   ],
   "source": [
    "//\"Number of searches performed: \" + rddFlightsFilteredCached.count() // 71823816\n",
    "//\"Number of distinct flights: \" + rddFlightsFilteredCached.map(x => x.flightID).distinct().count() // 5475345\n",
    "//\"Number of distinct startingAirport: \" + rddFlightsFilteredCached.map(x => (x.startingAirport)).distinct().count() //16\n",
    "//\"Number of flights by starting airport: \" + rddFlightsFilteredCached.map(x => (x.flightID, x.startingAirport)).distinct().map(x => (x._2, 1)).reduceByKey(_+_)\n",
    "// Array((LAX,539111), (CLT,358966), (JFK,264186), (BOS,403703), (OAK,284170), (LGA,392553), (ATL,324273), (MIA,310015), (DTW,300891), (PHL,323567), (SFO,467443), (EWR,257195), (ORD,326516), (DEN,300488), (IAD,277081), (DFW,345298))\n",
    "//\"Number of flights by month: \" + rddFlightsFilteredCached.map(x => (x.flightID, x.flightMonth)).distinct().map(x => (x._2, 1)).reduceByKey(_+_)\n",
    "// Array((04,87897), (05,610532), (06,895364), (07,930405), (08,967938), (09,891707), (10,729489), (11,362013))\n",
    "// \"Number of routes: \" + rddFlightsFilteredCached.map(x => (x.startingAirport, x.destinationAirport)).distinct().count()\n",
    "// numero di voli economi e non economici\n",
    "//\"Number of direct flights: \" + rddFlightsFilteredCached.map(x => (x.flightID, x.isNonStop)).distinct().filter(x => x._2 == true).count() // 625655"
   ]
  },
  {
   "cell_type": "markdown",
   "id": "f6da0874",
   "metadata": {},
   "source": [
    "## Jobs"
   ]
  },
  {
   "cell_type": "markdown",
   "id": "9d3d2e9d",
   "metadata": {},
   "source": [
    "### 1 - ??\n",
    "\n",
    "The change that occurs in the ticket price in the 1-7 and 8-14 days prior to flight departure is calculated, dividing the result between 'economy' and non-economy tickets.\n",
    "\n",
    "The correlation between that change in price and the number of seats remaining on that flight is then displayed."
   ]
  },
  {
   "cell_type": "markdown",
   "id": "9350efbe",
   "metadata": {},
   "source": [
    "### 2 - ??\n",
    "\n",
    "We want to identify the cheapest direct flights departing in a given week, grouped according to the departure airport, calculating the following values:\n",
    "- average price recorded in the 7 days before the departure of direct flights only\n",
    "- previous result compared to the distance traveled by the flight, so we find the flights that take us as far as possible for less money"
   ]
  },
  {
   "cell_type": "code",
   "execution_count": 4,
   "id": "68bb8013",
   "metadata": {},
   "outputs": [
    {
     "data": {
      "application/vnd.jupyter.widget-view+json": {
       "model_id": "27f3f8ab7bbe4032a69d7709a086f35d",
       "version_major": 2,
       "version_minor": 0
      },
      "text/plain": [
       "VBox()"
      ]
     },
     "metadata": {},
     "output_type": "display_data"
    },
    {
     "data": {
      "application/vnd.jupyter.widget-view+json": {
       "model_id": "",
       "version_major": 2,
       "version_minor": 0
      },
      "text/plain": [
       "FloatProgress(value=0.0, bar_style='info', description='Progress:', layout=Layout(height='25px', width='50%'),…"
      ]
     },
     "metadata": {},
     "output_type": "display_data"
    },
    {
     "name": "stdout",
     "output_type": "stream",
     "text": [
      "import java.time.temporal.ChronoUnit.DAYS\n",
      "import java.time.LocalDate\n",
      "daysBetween: (x: FlightData)Long\n"
     ]
    }
   ],
   "source": [
    "import java.time.temporal.ChronoUnit.DAYS\n",
    "import java.time.LocalDate\n",
    "\n",
    "def daysBetween(x: FlightData): Long = {\n",
    "    val searchDate = LocalDate.parse(x.searchDate);\n",
    "    val flightDate = LocalDate.parse(x.flightDate);\n",
    "    DAYS.between(searchDate, flightDate);\n",
    "}"
   ]
  },
  {
   "cell_type": "code",
   "execution_count": 9,
   "id": "bd026c30",
   "metadata": {},
   "outputs": [
    {
     "data": {
      "application/vnd.jupyter.widget-view+json": {
       "model_id": "eaf137b7813046808033ba349f8d9742",
       "version_major": 2,
       "version_minor": 0
      },
      "text/plain": [
       "VBox()"
      ]
     },
     "metadata": {},
     "output_type": "display_data"
    },
    {
     "data": {
      "application/vnd.jupyter.widget-view+json": {
       "model_id": "",
       "version_major": 2,
       "version_minor": 0
      },
      "text/plain": [
       "FloatProgress(value=0.0, bar_style='info', description='Progress:', layout=Layout(height='25px', width='50%'),…"
      ]
     },
     "metadata": {},
     "output_type": "display_data"
    },
    {
     "name": "stdout",
     "output_type": "stream",
     "text": [
      "rddData1WeekBeforeDirectFlight: org.apache.spark.rdd.RDD[FlightData] = MapPartitionsRDD[8] at filter at <console>:34\n"
     ]
    }
   ],
   "source": [
    "val rddData1WeekBeforeDirectFlight = rddFlightsFilteredCached.\n",
    "    filter(x => daysBetween(x) <= 10).\n",
    "    filter(_.isNonStop).\n",
    "    cache()"
   ]
  },
  {
   "cell_type": "code",
   "execution_count": 10,
   "id": "44ea5776",
   "metadata": {},
   "outputs": [
    {
     "data": {
      "application/vnd.jupyter.widget-view+json": {
       "model_id": "b0e90d7b56aa4f1aa2c2f1959cf62260",
       "version_major": 2,
       "version_minor": 0
      },
      "text/plain": [
       "VBox()"
      ]
     },
     "metadata": {},
     "output_type": "display_data"
    },
    {
     "data": {
      "application/vnd.jupyter.widget-view+json": {
       "model_id": "",
       "version_major": 2,
       "version_minor": 0
      },
      "text/plain": [
       "FloatProgress(value=0.0, bar_style='info', description='Progress:', layout=Layout(height='25px', width='50%'),…"
      ]
     },
     "metadata": {},
     "output_type": "display_data"
    },
    {
     "name": "stdout",
     "output_type": "stream",
     "text": [
      "res17: Long = 1727242\n"
     ]
    }
   ],
   "source": [
    "rddData1WeekBeforeDirectFlight.count()"
   ]
  },
  {
   "cell_type": "code",
   "execution_count": 14,
   "id": "1e28d667",
   "metadata": {},
   "outputs": [
    {
     "data": {
      "application/vnd.jupyter.widget-view+json": {
       "model_id": "0be632e6c3274ee48c94ebd5c75af166",
       "version_major": 2,
       "version_minor": 0
      },
      "text/plain": [
       "VBox()"
      ]
     },
     "metadata": {},
     "output_type": "display_data"
    },
    {
     "data": {
      "application/vnd.jupyter.widget-view+json": {
       "model_id": "",
       "version_major": 2,
       "version_minor": 0
      },
      "text/plain": [
       "FloatProgress(value=0.0, bar_style='info', description='Progress:', layout=Layout(height='25px', width='50%'),…"
      ]
     },
     "metadata": {},
     "output_type": "display_data"
    },
    {
     "name": "stdout",
     "output_type": "stream",
     "text": [
      "rddAveragePricePerFlight: org.apache.spark.rdd.RDD[(String, Double)] = MapPartitionsRDD[14] at map at <console>:33\n"
     ]
    }
   ],
   "source": [
    "val rddAveragePricePerFlight = rddData1WeekBeforeDirectFlight.\n",
    "    map(x => (x.flightID, x.baseFare)).\n",
    "    aggregateByKey((0.0,0.0))((x,y)=>(x._1+y, x._2 + 1) , (x,y)=>(x._1 + y._1, x._2 + y._2)).\n",
    "    map({case(k,v) => (k, v._1/v._2)})"
   ]
  },
  {
   "cell_type": "code",
   "execution_count": 15,
   "id": "ca32c576",
   "metadata": {},
   "outputs": [
    {
     "data": {
      "application/vnd.jupyter.widget-view+json": {
       "model_id": "b8f424a304e64491a417809d7a45b540",
       "version_major": 2,
       "version_minor": 0
      },
      "text/plain": [
       "VBox()"
      ]
     },
     "metadata": {},
     "output_type": "display_data"
    },
    {
     "data": {
      "application/vnd.jupyter.widget-view+json": {
       "model_id": "",
       "version_major": 2,
       "version_minor": 0
      },
      "text/plain": [
       "FloatProgress(value=0.0, bar_style='info', description='Progress:', layout=Layout(height='25px', width='50%'),…"
      ]
     },
     "metadata": {},
     "output_type": "display_data"
    },
    {
     "name": "stdout",
     "output_type": "stream",
     "text": [
      "rddAveragePricePerFlightWithDistance: org.apache.spark.rdd.RDD[(String, (Int, Double))] = MapPartitionsRDD[21] at join at <console>:35\n"
     ]
    }
   ],
   "source": [
    "val rddAveragePricePerFlightWithDistance = rddData1WeekBeforeDirectFlight.\n",
    "    map(x => (x.flightID, x.travelDistance)).\n",
    "    distinct().\n",
    "    join(rddAveragePricePerFlight)"
   ]
  },
  {
   "cell_type": "code",
   "execution_count": 21,
   "id": "42bf6d4c",
   "metadata": {},
   "outputs": [
    {
     "data": {
      "application/vnd.jupyter.widget-view+json": {
       "model_id": "b0df836b9ab74e89b4c283fb3c4b3929",
       "version_major": 2,
       "version_minor": 0
      },
      "text/plain": [
       "VBox()"
      ]
     },
     "metadata": {},
     "output_type": "display_data"
    },
    {
     "data": {
      "application/vnd.jupyter.widget-view+json": {
       "model_id": "",
       "version_major": 2,
       "version_minor": 0
      },
      "text/plain": [
       "FloatProgress(value=0.0, bar_style='info', description='Progress:', layout=Layout(height='25px', width='50%'),…"
      ]
     },
     "metadata": {},
     "output_type": "display_data"
    },
    {
     "name": "stdout",
     "output_type": "stream",
     "text": [
      "rddAveragePricePerDistance: org.apache.spark.rdd.RDD[(String, Double)] = MapPartitionsRDD[22] at map at <console>:31\n"
     ]
    }
   ],
   "source": [
    "val rddAveragePricePerDistance = rddAveragePricePerFlightWithDistance.\n",
    "    map({case(x,y) => (x, y._2/y._1)})"
   ]
  },
  {
   "cell_type": "code",
   "execution_count": 22,
   "id": "6b9e9453",
   "metadata": {},
   "outputs": [
    {
     "data": {
      "application/vnd.jupyter.widget-view+json": {
       "model_id": "9aae106efa064e11923772e826eae6b1",
       "version_major": 2,
       "version_minor": 0
      },
      "text/plain": [
       "VBox()"
      ]
     },
     "metadata": {},
     "output_type": "display_data"
    },
    {
     "data": {
      "application/vnd.jupyter.widget-view+json": {
       "model_id": "",
       "version_major": 2,
       "version_minor": 0
      },
      "text/plain": [
       "FloatProgress(value=0.0, bar_style='info', description='Progress:', layout=Layout(height='25px', width='50%'),…"
      ]
     },
     "metadata": {},
     "output_type": "display_data"
    },
    {
     "name": "stdout",
     "output_type": "stream",
     "text": [
      "rddAveragePricePerAirport: org.apache.spark.rdd.RDD[(String, (String, Double))] = MapPartitionsRDD[29] at join at <console>:35\n"
     ]
    }
   ],
   "source": [
    "val rddAveragePricePerAirport = rddData1WeekBeforeDirectFlight.\n",
    "    map(x => (x.flightID, x.startingAirport)).\n",
    "    distinct().\n",
    "    join(rddAveragePricePerDistance)"
   ]
  },
  {
   "cell_type": "code",
   "execution_count": 23,
   "id": "a9cc7440",
   "metadata": {},
   "outputs": [
    {
     "data": {
      "application/vnd.jupyter.widget-view+json": {
       "model_id": "45f46b57c0644739b3c31fe8f95d775b",
       "version_major": 2,
       "version_minor": 0
      },
      "text/plain": [
       "VBox()"
      ]
     },
     "metadata": {},
     "output_type": "display_data"
    },
    {
     "data": {
      "application/vnd.jupyter.widget-view+json": {
       "model_id": "",
       "version_major": 2,
       "version_minor": 0
      },
      "text/plain": [
       "FloatProgress(value=0.0, bar_style='info', description='Progress:', layout=Layout(height='25px', width='50%'),…"
      ]
     },
     "metadata": {},
     "output_type": "display_data"
    },
    {
     "name": "stdout",
     "output_type": "stream",
     "text": [
      "rddFinal: Array[(Double, String)] = Array((Infinity,LAX), (Infinity,JFK), (Infinity,LGA), (Infinity,MIA), (Infinity,PHL), (Infinity,EWR), (Infinity,ORD), (Infinity,IAD), (Infinity,CLT), (Infinity,BOS), (Infinity,OAK), (Infinity,ATL), (Infinity,DTW), (Infinity,SFO), (Infinity,DEN), (Infinity,DFW))\n"
     ]
    }
   ],
   "source": [
    "val rddFinal = rddAveragePricePerAirport.\n",
    "    map({case(x,y) => (y._1, y._2)}).\n",
    "    aggregateByKey((0.0,0.0))((x,y)=>(x._1+y, x._2 + 1) , (x,y)=>(x._1 + y._1, x._2 + y._2)).\n",
    "    map({case(k,v) => (v._1/v._2, k)}).\n",
    "    sortByKey().\n",
    "    collect()"
   ]
  },
  {
   "cell_type": "code",
   "execution_count": null,
   "id": "8cdbd87c",
   "metadata": {},
   "outputs": [],
   "source": []
  },
  {
   "cell_type": "code",
   "execution_count": null,
   "id": "ec27702c",
   "metadata": {},
   "outputs": [],
   "source": []
  },
  {
   "cell_type": "code",
   "execution_count": 18,
   "id": "994c17b5",
   "metadata": {},
   "outputs": [
    {
     "data": {
      "application/vnd.jupyter.widget-view+json": {
       "model_id": "328b9de0d40f4dc29d6d862bfd886aaa",
       "version_major": 2,
       "version_minor": 0
      },
      "text/plain": [
       "VBox()"
      ]
     },
     "metadata": {},
     "output_type": "display_data"
    },
    {
     "data": {
      "application/vnd.jupyter.widget-view+json": {
       "model_id": "",
       "version_major": 2,
       "version_minor": 0
      },
      "text/plain": [
       "FloatProgress(value=0.0, bar_style='info', description='Progress:', layout=Layout(height='25px', width='50%'),…"
      ]
     },
     "metadata": {},
     "output_type": "display_data"
    },
    {
     "name": "stdout",
     "output_type": "stream",
     "text": [
      "res28: Array[(String, Double)] = Array((LAX,323.65968300851813), (CLT,271.61687347318605), (JFK,249.8101657160011), (BOS,203.0790532989199), (OAK,114.69472489082972), (LGA,173.16174405059084), (ATL,250.04267252195743), (MIA,197.6175176848874), (DTW,255.66425100821132), (PHL,237.64767706302794), (SFO,343.6562917529396), (EWR,226.05609893387003), (ORD,211.3787435584654), (DEN,239.2157848786453), (IAD,262.81525903041825), (DFW,238.9464623652575))\n"
     ]
    }
   ],
   "source": [
    "val rddAveragePricePerAirport = rddData1WeekBeforeDirectFlight.\n",
    "    map(x => (x.startingAirport, x.baseFare)).\n",
    "    aggregateByKey((0.0,0.0))((x,y)=>(x._1+y, x._2 + 1) , (x,y)=>(x._1 + y._1, x._2 + y._2)).\n",
    "    map({case(k,v) => (k, v._1/v._2)}).\n",
    "    collect()"
   ]
  }
 ],
 "metadata": {
  "kernelspec": {
   "display_name": "Spark",
   "language": "scala",
   "name": "sparkkernel"
  },
  "language_info": {
   "codemirror_mode": "text/x-scala",
   "file_extension": ".sc",
   "mimetype": "text/x-scala",
   "name": "scala",
   "pygments_lexer": "scala"
  }
 },
 "nbformat": 4,
 "nbformat_minor": 5
}

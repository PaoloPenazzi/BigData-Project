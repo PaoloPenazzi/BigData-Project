{
 "cells": [
  {
   "cell_type": "markdown",
   "id": "cb8e7e8c",
   "metadata": {},
   "source": [
    "# Flights Price Analysis \n",
    "\n",
    "The goal of this notebook is to run some analysis on a dataset that contains one-way flights found on Expedia between 2022-04-16 and 2022-10-05 (you can find it at this [link](https://www.kaggle.com/datasets/dilwong/flightprices)."
   ]
  },
  {
   "cell_type": "code",
   "execution_count": 1,
   "id": "885fe425",
   "metadata": {},
   "outputs": [
    {
     "data": {
      "application/vnd.jupyter.widget-view+json": {
       "model_id": "36d4b2b2cafc472b8d4354f74da3eda0",
       "version_major": 2,
       "version_minor": 0
      },
      "text/plain": [
       "VBox()"
      ]
     },
     "metadata": {},
     "output_type": "display_data"
    },
    {
     "name": "stdout",
     "output_type": "stream",
     "text": [
      "Starting Spark application\n"
     ]
    },
    {
     "data": {
      "text/html": [
       "<table>\n",
       "<tr><th>ID</th><th>YARN Application ID</th><th>Kind</th><th>State</th><th>Spark UI</th><th>Driver log</th><th>User</th><th>Current session?</th></tr><tr><td>1</td><td>application_1677054126516_0002</td><td>spark</td><td>idle</td><td><a target=\"_blank\" href=\"http://ip-172-31-93-34.ec2.internal:20888/proxy/application_1677054126516_0002/\" class=\"emr-proxy-link\" emr-resource=\"j-1U91JCG0DB9IU\n",
       "\" application-id=\"application_1677054126516_0002\">Link</a></td><td><a target=\"_blank\" href=\"http://ip-172-31-87-11.ec2.internal:8042/node/containerlogs/container_1677054126516_0002_01_000001/livy\" >Link</a></td><td>None</td><td>✔</td></tr></table>"
      ],
      "text/plain": [
       "<IPython.core.display.HTML object>"
      ]
     },
     "metadata": {},
     "output_type": "display_data"
    },
    {
     "data": {
      "application/vnd.jupyter.widget-view+json": {
       "model_id": "",
       "version_major": 2,
       "version_minor": 0
      },
      "text/plain": [
       "FloatProgress(value=0.0, bar_style='info', description='Progress:', layout=Layout(height='25px', width='50%'),…"
      ]
     },
     "metadata": {},
     "output_type": "display_data"
    },
    {
     "name": "stdout",
     "output_type": "stream",
     "text": [
      "SparkSession available as 'spark'.\n"
     ]
    },
    {
     "data": {
      "application/vnd.jupyter.widget-view+json": {
       "model_id": "",
       "version_major": 2,
       "version_minor": 0
      },
      "text/plain": [
       "FloatProgress(value=0.0, bar_style='info', description='Progress:', layout=Layout(height='25px', width='50%'),…"
      ]
     },
     "metadata": {},
     "output_type": "display_data"
    },
    {
     "name": "stdout",
     "output_type": "stream",
     "text": [
      "bucketname: String = unibo-bd2223-paolopenazzi\n"
     ]
    }
   ],
   "source": [
    "val bucketname = \"unibo-bd2223-paolopenazzi\""
   ]
  },
  {
   "cell_type": "markdown",
   "id": "ee7bafc0",
   "metadata": {},
   "source": [
    "## DataPreparation\n",
    "\n",
    "The following columns will be kept and created:\n",
    "- flightID: Identifier for the flight.\n",
    "- searchDate: Date the record was obtained from Expedia.\n",
    "- searchMonth: Month the record was obtained from Expedia.\n",
    "- searchDay: Day the record was obtained from Expedia.\n",
    "- flightDate: The date of the flight.\n",
    "- flightMonth: The month of the flight.\n",
    "- flightDay: The day of the flight.\n",
    "- startingAirport: 3-letter code for the starting airport.\n",
    "- destinationAirport: 3-letter code for the destination airport.\n",
    "- duration: Travel duration in minutes.\n",
    "- isEconomy: Is basic economy?\n",
    "- isRefundable: Is the ticket refundable?\n",
    "- isNonStop: Is the flight non-stop?\n",
    "- baseFare: Price of the ticket (not including taxes).\n",
    "- totalFare: Price of the ticket, including taxes and fees.\n",
    "- seatsRemaining: Number of remaining seats.\n",
    "- travelDistance: The total travel distance in miles."
   ]
  },
  {
   "cell_type": "code",
   "execution_count": 2,
   "id": "01b7adc5",
   "metadata": {},
   "outputs": [
    {
     "data": {
      "application/vnd.jupyter.widget-view+json": {
       "model_id": "f67a045baa994f06ae7228a75078420f",
       "version_major": 2,
       "version_minor": 0
      },
      "text/plain": [
       "VBox()"
      ]
     },
     "metadata": {},
     "output_type": "display_data"
    },
    {
     "data": {
      "application/vnd.jupyter.widget-view+json": {
       "model_id": "",
       "version_major": 2,
       "version_minor": 0
      },
      "text/plain": [
       "FloatProgress(value=0.0, bar_style='info', description='Progress:', layout=Layout(height='25px', width='50%'),…"
      ]
     },
     "metadata": {},
     "output_type": "display_data"
    },
    {
     "name": "stdout",
     "output_type": "stream",
     "text": [
      "defined class FlightData\n",
      "defined object FlightData\n",
      "warning: previously defined class FlightData is not a companion to object FlightData.\n",
      "Companions must be defined together; you may wish to use :paste mode for this.\n",
      "rdd: org.apache.spark.rdd.RDD[String] = s3a://unibo-bd2223-paolopenazzi/datasets/itineraries.csv MapPartitionsRDD[1] at textFile at <console>:29\n",
      "header: String = legId,searchDate,flightDate,startingAirport,destinationAirport,fareBasisCode,travelDuration,elapsedDays,isBasicEconomy,isRefundable,isNonStop,baseFare,totalFare,seatsRemaining,totalTravelDistance,segmentsDepartureTimeEpochSeconds,segmentsDepartureTimeRaw,segmentsArrivalTimeEpochSeconds,segmentsArrivalTimeRaw,segmentsArrivalAirportCode,segmentsDepartureAirportCode,segmentsAirlineName,segmentsAirlineCode,segmentsEquipmentDescription,segmentsDurationInSeconds,segmentsDistance,segmentsCabinCode\n",
      "rddFlights: org.apache.spark.rdd.RDD[FlightData] = MapPartitionsRDD[3] at map at <console>:29\n"
     ]
    }
   ],
   "source": [
    "case class FlightData(\n",
    "    flightID:String,\n",
    "    searchDate:String,\n",
    "    searchMonth:String,\n",
    "    searchDay:String,\n",
    "    flightDate:String,\n",
    "    flightMonth:String,\n",
    "    flightDay:String,\n",
    "    startingAirport:String,\n",
    "    destinationAirport:String,\n",
    "    duration:Int,\n",
    "    isEconomy:Boolean,\n",
    "    isRefundable:Boolean,\n",
    "    isNonStop:Boolean,\n",
    "    baseFare:Double,\n",
    "    totalFare:Double,\n",
    "    seatsRemaining:Int,\n",
    "    travelDistance:Int\n",
    ")\n",
    "\n",
    "object FlightData {\n",
    "\n",
    "    def parse(line:String) = {\n",
    "        val input = line.split(\",\")\n",
    "        val flightID = input(0)\n",
    "        val searchDate = input(1)\n",
    "        val searchMonth = searchDate.substring(5,7)\n",
    "        val searchDay = searchDate.substring(8,10)\n",
    "        val flightDate = input(2)\n",
    "        val flightMonth = flightDate.substring(5,7)\n",
    "        val flightDay = flightDate.substring(8,10)\n",
    "        val startingAirport = input(3)\n",
    "        val destinationAirport = input(4)\n",
    "        val dur = input(6).replace(\"P\",\"\").replace(\"T\",\"\").split(\"D|H|M\").map(x => x.toInt)\n",
    "        val duration = dur.length match {\n",
    "            case 3 => dur(0) * 1440 + dur(1) * 60 + dur(2)\n",
    "            case 2 => dur(0) * 60 + dur(1)\n",
    "            case 1 => dur(0)\n",
    "        }\n",
    "        val isEconomy = input(8).toBoolean\n",
    "        val isRefundable = input(9).toBoolean\n",
    "        val isNonStop = input(10).toBoolean\n",
    "        val baseFare = input(11).toDouble\n",
    "        val totalFare = input(12).toDouble\n",
    "        val seatsRemaining = input(13).toInt\n",
    "        val travelDistance = input(14) match {\n",
    "            case \"\" => 0\n",
    "            case _ => input(14).toInt\n",
    "        }\n",
    "        \n",
    "        new FlightData(flightID,searchDate,searchMonth,searchDay,flightDate,flightMonth,flightDay,startingAirport,\n",
    "                       destinationAirport,duration,isEconomy,isRefundable,isNonStop,baseFare,totalFare,\n",
    "                       seatsRemaining,travelDistance)\n",
    "    }\n",
    "}\n",
    "\n",
    "/** Create RRD */\n",
    "val rdd = sc.textFile(\"s3a://\"+bucketname+\"/datasets/itineraries.csv\")\n",
    "/** Extract header from RDD and parse every row*/\n",
    "val header = rdd.first(); \n",
    "val rddFlights = rdd.filter(row => row != header).map(FlightData.parse)\n",
    "/** Count elements on RDD */\n",
    "//rddFlights.count() //82138753"
   ]
  },
  {
   "cell_type": "markdown",
   "id": "bed34591",
   "metadata": {},
   "source": [
    "#### Visualize data as a DataFrame"
   ]
  },
  {
   "cell_type": "code",
   "execution_count": null,
   "id": "9841e3ce",
   "metadata": {},
   "outputs": [],
   "source": [
    "import spark.implicits._\n",
    "\n",
    "val columns = Seq(\"flightID\",\n",
    "                  \"searchDate\",\n",
    "                  \"searchMonth\",\n",
    "                  \"searchDay\",\n",
    "                  \"flightDate\",\n",
    "                  \"flightMonth\",\n",
    "                  \"flightDay\",\n",
    "                  \"startingAirport\",\n",
    "                  \"destinationAirport\",\n",
    "                  \"duration\",\n",
    "                  \"isEconomy\",\n",
    "                  \"isRefundable\",\n",
    "                  \"isNonStop\",\n",
    "                  \"baseFare\",\n",
    "                  \"totalFare\",\n",
    "                  \"seatsRemaining\",\n",
    "                  \"travelDistance\")\n",
    "\n",
    "val flightDataframe = rddFlights.toDF(columns:_*)\n",
    "flightDataframe.show(60,truncate=40,vertical=true)"
   ]
  },
  {
   "cell_type": "markdown",
   "id": "1b2d9b98",
   "metadata": {},
   "source": [
    "#### Ignore flights for which there are not at least 7 days of difference between the searchDate and the flightDate"
   ]
  },
  {
   "cell_type": "code",
   "execution_count": null,
   "id": "1ffbfe4c",
   "metadata": {
    "scrolled": true
   },
   "outputs": [],
   "source": [
    "/** import java.time.format.DateTimeFormatter\n",
    "import java.time.LocalDateTime\n",
    "import java.time.Duration */\n",
    "import java.time.temporal.ChronoUnit.DAYS\n",
    "import java.time.LocalDate\n",
    "\n",
    "def enoughData(x: FlightData): Long = {\n",
    "        val searchDate = LocalDate.parse(x.searchDate);\n",
    "        val flightDate = LocalDate.parse(x.flightDate);\n",
    "        val daysBetween = DAYS.between(searchDate, flightDate);\n",
    "        daysBetween\n",
    "}\n",
    "\n",
    "val rddFlightsFiltered = rddFlights.filter(x => enoughData(x) >= 7)\n",
    "// rddFlightsFiltered.count() // 82138753 in RDD, 71823816 in RDD filtered "
   ]
  },
  {
   "cell_type": "code",
   "execution_count": null,
   "id": "44449cef",
   "metadata": {},
   "outputs": [],
   "source": [
    "rddFlightsFiltered.take(10)"
   ]
  },
  {
   "cell_type": "markdown",
   "id": "e8fdf60d",
   "metadata": {},
   "source": [
    "## Data Exploration"
   ]
  },
  {
   "cell_type": "code",
   "execution_count": null,
   "id": "b6649354",
   "metadata": {},
   "outputs": [],
   "source": [
    "val rddFlightsFilteredCached = rddFlightsFiltered.cache()"
   ]
  },
  {
   "cell_type": "code",
   "execution_count": null,
   "id": "109bf983",
   "metadata": {},
   "outputs": [],
   "source": [
    "//\"Number of searches performed: \" + rddFlightsFilteredCached.count() // 71823816\n",
    "//\"Number of distinct flights: \" + rddFlightsFilteredCached.map(x => x.flightID).distinct().count() // 5475345\n",
    "//\"Number of distinct startingAirport: \" + rddFlightsFilteredCached.map(x => (x.startingAirport)).distinct().count() //16\n",
    "//\"Number of flights by starting airport: \" + rddFlightsFilteredCached.map(x => (x.flightID, x.startingAirport)).distinct().map(x => (x._2, 1)).reduceByKey(_+_)\n",
    "// Array((LAX,539111), (CLT,358966), (JFK,264186), (BOS,403703), (OAK,284170), (LGA,392553), (ATL,324273), (MIA,310015), (DTW,300891), (PHL,323567), (SFO,467443), (EWR,257195), (ORD,326516), (DEN,300488), (IAD,277081), (DFW,345298))\n",
    "//\"Number of flights by month: \" + rddFlightsFilteredCached.map(x => (x.flightID, x.flightMonth)).distinct().map(x => (x._2, 1)).reduceByKey(_+_)\n",
    "// Array((04,87897), (05,610532), (06,895364), (07,930405), (08,967938), (09,891707), (10,729489), (11,362013))\n",
    "// \"Number of routes: \" + rddFlightsFilteredCached.map(x => (x.startingAirport, x.destinationAirport)).distinct().count()\n",
    "// numero di voli economi e non economici\n",
    "//\"Number of direct flights: \" + rddFlightsFilteredCached.map(x => (x.flightID, x.isNonStop)).distinct().filter(x => x._2 == true).count() // 625655"
   ]
  },
  {
   "cell_type": "markdown",
   "id": "f6da0874",
   "metadata": {},
   "source": [
    "## Jobs"
   ]
  },
  {
   "cell_type": "markdown",
   "id": "9d3d2e9d",
   "metadata": {},
   "source": [
    "### 1 - ??\n",
    "\n",
    "The change that occurs in the ticket price in the 1-7 and 8-14 days prior to flight departure is calculated, dividing the result between 'economy' and non-economy tickets.\n",
    "\n",
    "The correlation between that change in price and the number of seats remaining on that flight is then displayed."
   ]
  },
  {
   "cell_type": "code",
   "execution_count": 5,
   "id": "38327eb6",
   "metadata": {},
   "outputs": [
    {
     "data": {
      "application/vnd.jupyter.widget-view+json": {
       "model_id": "cfc78cd452e547188d5cec97b0c002c4",
       "version_major": 2,
       "version_minor": 0
      },
      "text/plain": [
       "VBox()"
      ]
     },
     "metadata": {},
     "output_type": "display_data"
    },
    {
     "data": {
      "application/vnd.jupyter.widget-view+json": {
       "model_id": "",
       "version_major": 2,
       "version_minor": 0
      },
      "text/plain": [
       "FloatProgress(value=0.0, bar_style='info', description='Progress:', layout=Layout(height='25px', width='50%'),…"
      ]
     },
     "metadata": {},
     "output_type": "display_data"
    },
    {
     "name": "stdout",
     "output_type": "stream",
     "text": [
      "rdd14DaysBefore: org.apache.spark.rdd.RDD[FlightData] = MapPartitionsRDD[4] at filter at <console>:30\n"
     ]
    }
   ],
   "source": [
    "val rdd14DaysBefore = rddFlights.\n",
    "    filter(x => daysBetween(x) <= 14).\n",
    "    cache()"
   ]
  },
  {
   "cell_type": "code",
   "execution_count": 6,
   "id": "05a1a8ac",
   "metadata": {},
   "outputs": [
    {
     "data": {
      "application/vnd.jupyter.widget-view+json": {
       "model_id": "e749e5de47d44be8a478c2e3fab43d56",
       "version_major": 2,
       "version_minor": 0
      },
      "text/plain": [
       "VBox()"
      ]
     },
     "metadata": {},
     "output_type": "display_data"
    },
    {
     "data": {
      "application/vnd.jupyter.widget-view+json": {
       "model_id": "",
       "version_major": 2,
       "version_minor": 0
      },
      "text/plain": [
       "FloatProgress(value=0.0, bar_style='info', description='Progress:', layout=Layout(height='25px', width='50%'),…"
      ]
     },
     "metadata": {},
     "output_type": "display_data"
    },
    {
     "name": "stdout",
     "output_type": "stream",
     "text": [
      "rddEconomyFlights: org.apache.spark.rdd.RDD[FlightData] = MapPartitionsRDD[5] at filter at <console>:27\n",
      "rddNonEconomyFlights: org.apache.spark.rdd.RDD[FlightData] = MapPartitionsRDD[6] at filter at <console>:27\n"
     ]
    }
   ],
   "source": [
    "val rddEconomyFlights = rdd14DaysBefore.filter(_.isEconomy)\n",
    "val rddNonEconomyFlights = rdd14DaysBefore.filter(!_.isEconomy)"
   ]
  },
  {
   "cell_type": "code",
   "execution_count": 7,
   "id": "8db64182",
   "metadata": {},
   "outputs": [
    {
     "data": {
      "application/vnd.jupyter.widget-view+json": {
       "model_id": "20cb37ed4e6e4f9aa11d5d2df8677e99",
       "version_major": 2,
       "version_minor": 0
      },
      "text/plain": [
       "VBox()"
      ]
     },
     "metadata": {},
     "output_type": "display_data"
    },
    {
     "data": {
      "application/vnd.jupyter.widget-view+json": {
       "model_id": "",
       "version_major": 2,
       "version_minor": 0
      },
      "text/plain": [
       "FloatProgress(value=0.0, bar_style='info', description='Progress:', layout=Layout(height='25px', width='50%'),…"
      ]
     },
     "metadata": {},
     "output_type": "display_data"
    },
    {
     "name": "stdout",
     "output_type": "stream",
     "text": [
      "rddAveragePriceEconomy: org.apache.spark.rdd.RDD[(Long, Double)] = MapPartitionsRDD[9] at map at <console>:32\n",
      "rddAveragePriceNonEconomy: org.apache.spark.rdd.RDD[(Long, Double)] = MapPartitionsRDD[12] at map at <console>:33\n"
     ]
    }
   ],
   "source": [
    "val rddAveragePriceEconomy = rddEconomyFlights.\n",
    "    map(x => (daysBetween(x), x.baseFare)).\n",
    "    aggregateByKey((0.0,0.0))((x,y)=>(x._1+y, x._2 + 1) , (x,y)=>(x._1 + y._1, x._2 + y._2)).\n",
    "    map({case(k,v) => (k, v._1/v._2)})\n",
    "\n",
    "val rddAveragePriceNonEconomy = rddNonEconomyFlights.\n",
    "    map(x => (daysBetween(x), x.baseFare)).\n",
    "    aggregateByKey((0.0,0.0))((x,y)=>(x._1+y, x._2 + 1) , (x,y)=>(x._1 + y._1, x._2 + y._2)).\n",
    "    map({case(k,v) => (k, v._1/v._2)})"
   ]
  },
  {
   "cell_type": "code",
   "execution_count": 8,
   "id": "f88b6898",
   "metadata": {},
   "outputs": [
    {
     "data": {
      "application/vnd.jupyter.widget-view+json": {
       "model_id": "f5b2e7799dc84f539b447d30260cdf17",
       "version_major": 2,
       "version_minor": 0
      },
      "text/plain": [
       "VBox()"
      ]
     },
     "metadata": {},
     "output_type": "display_data"
    },
    {
     "data": {
      "application/vnd.jupyter.widget-view+json": {
       "model_id": "",
       "version_major": 2,
       "version_minor": 0
      },
      "text/plain": [
       "FloatProgress(value=0.0, bar_style='info', description='Progress:', layout=Layout(height='25px', width='50%'),…"
      ]
     },
     "metadata": {},
     "output_type": "display_data"
    },
    {
     "name": "stdout",
     "output_type": "stream",
     "text": [
      "rddAverageSeatsRemainingEconomy: org.apache.spark.rdd.RDD[(Long, Double)] = MapPartitionsRDD[15] at map at <console>:32\n",
      "rddAverageSeatsRemainingNonEconomy: org.apache.spark.rdd.RDD[(Long, Double)] = MapPartitionsRDD[18] at map at <console>:33\n"
     ]
    }
   ],
   "source": [
    "val rddAverageSeatsRemainingEconomy = rddEconomyFlights.\n",
    "    map(x => (daysBetween(x), x.seatsRemaining)).\n",
    "    aggregateByKey((0.0,0.0))((x,y)=>(x._1+y, x._2 + 1) , (x,y)=>(x._1 + y._1, x._2 + y._2)).\n",
    "    map({case(k,v) => (k, v._1/v._2)})\n",
    "\n",
    "val rddAverageSeatsRemainingNonEconomy = rddNonEconomyFlights.\n",
    "    map(x => (daysBetween(x), x.seatsRemaining)).\n",
    "    aggregateByKey((0.0,0.0))((x,y)=>(x._1+y, x._2 + 1) , (x,y)=>(x._1 + y._1, x._2 + y._2)).\n",
    "    map({case(k,v) => (k, v._1/v._2)})"
   ]
  },
  {
   "cell_type": "code",
   "execution_count": 16,
   "id": "3dc1da55",
   "metadata": {},
   "outputs": [
    {
     "data": {
      "application/vnd.jupyter.widget-view+json": {
       "model_id": "7ed9d1eb85204b67a7654c427df764e0",
       "version_major": 2,
       "version_minor": 0
      },
      "text/plain": [
       "VBox()"
      ]
     },
     "metadata": {},
     "output_type": "display_data"
    },
    {
     "data": {
      "application/vnd.jupyter.widget-view+json": {
       "model_id": "",
       "version_major": 2,
       "version_minor": 0
      },
      "text/plain": [
       "FloatProgress(value=0.0, bar_style='info', description='Progress:', layout=Layout(height='25px', width='50%'),…"
      ]
     },
     "metadata": {},
     "output_type": "display_data"
    },
    {
     "name": "stdout",
     "output_type": "stream",
     "text": [
      "import org.apache.spark.sql.SaveMode\n",
      "path_output: String = s3a://unibo-bd2223-paolopenazzi/spark/bdexam\n",
      "rddEconomyResult: Unit = ()\n",
      "rddNonEconomyResult: Unit = ()\n"
     ]
    }
   ],
   "source": [
    "import org.apache.spark.sql.SaveMode\n",
    "\n",
    "val path_output = \"s3a://\"+bucketname+\"/spark/bdexam\"\n",
    "\n",
    "val rddEconomyResult = rddAverageSeatsRemainingEconomy.join(rddAveragePriceEconomy).\n",
    "    map({case(k,v) => (k, v._1, v._2)}).\n",
    "    coalesce(1).toDF().write.format(\"csv\").mode(SaveMode.Overwrite).save(path_output)\n",
    "val rddNonEconomyResult = rddAverageSeatsRemainingNonEconomy.join(rddAveragePriceNonEconomy).\n",
    "    map({case(k,v) => (k, v._1, v._2)}).\n",
    "    coalesce(1).toDF().write.format(\"csv\").mode(SaveMode.Overwrite).save(path_output)"
   ]
  },
  {
   "cell_type": "code",
   "execution_count": 11,
   "id": "b2da3395",
   "metadata": {},
   "outputs": [
    {
     "data": {
      "application/vnd.jupyter.widget-view+json": {
       "model_id": "bfb9d48b1ac84f37a428d561886c2483",
       "version_major": 2,
       "version_minor": 0
      },
      "text/plain": [
       "VBox()"
      ]
     },
     "metadata": {},
     "output_type": "display_data"
    },
    {
     "data": {
      "application/vnd.jupyter.widget-view+json": {
       "model_id": "",
       "version_major": 2,
       "version_minor": 0
      },
      "text/plain": [
       "FloatProgress(value=0.0, bar_style='info', description='Progress:', layout=Layout(height='25px', width='50%'),…"
      ]
     },
     "metadata": {},
     "output_type": "display_data"
    },
    {
     "name": "stdout",
     "output_type": "stream",
     "text": [
      "import org.apache.spark.mllib.stat.Statistics\n",
      "import org.apache.spark.mllib.linalg._\n",
      "economyData: org.apache.spark.rdd.RDD[org.apache.spark.mllib.linalg.Vector] = MapPartitionsRDD[34] at map at <console>:36\n",
      "correlMatrix: org.apache.spark.mllib.linalg.Matrix =\n",
      "1.0                  -0.8847960167193927\n",
      "-0.8847960167193927  1.0\n",
      "nonEconomyData: org.apache.spark.rdd.RDD[org.apache.spark.mllib.linalg.Vector] = MapPartitionsRDD[43] at map at <console>:36\n",
      "correlMatrix: org.apache.spark.mllib.linalg.Matrix =\n",
      "1.0                  -0.5823660225408362\n",
      "-0.5823660225408362  1.0\n"
     ]
    }
   ],
   "source": [
    "import org.apache.spark.mllib.stat.Statistics\n",
    "import org.apache.spark.mllib.linalg._\n",
    "\n",
    "val economyData = rddEconomyResult.map({case(days,tuple) => Vectors.dense(tuple._1, tuple._2)}).cache()\n",
    "val correlMatrix: Matrix = Statistics.corr(economyData)\n",
    "\n",
    "val nonEconomyData = rddNonEconomyResult.map({case(days,tuple) => Vectors.dense(tuple._1, tuple._2)}).cache()\n",
    "val correlMatrix: Matrix = Statistics.corr(nonEconomyData)"
   ]
  },
  {
   "cell_type": "markdown",
   "id": "9350efbe",
   "metadata": {},
   "source": [
    "### 2 - ??\n",
    "\n",
    "We want to identify the cheapest direct flights departing in a given week, grouped according to the departure airport, calculating the following values:\n",
    "- average price recorded in the 7 days before the departure of direct flights only\n",
    "- previous result compared to the distance traveled by the flight, so we find the flights that take us as far as possible for less money"
   ]
  },
  {
   "cell_type": "code",
   "execution_count": 4,
   "id": "68bb8013",
   "metadata": {},
   "outputs": [
    {
     "data": {
      "application/vnd.jupyter.widget-view+json": {
       "model_id": "7a4c5740a2fd4712bb2b1397a290b051",
       "version_major": 2,
       "version_minor": 0
      },
      "text/plain": [
       "VBox()"
      ]
     },
     "metadata": {},
     "output_type": "display_data"
    },
    {
     "data": {
      "application/vnd.jupyter.widget-view+json": {
       "model_id": "",
       "version_major": 2,
       "version_minor": 0
      },
      "text/plain": [
       "FloatProgress(value=0.0, bar_style='info', description='Progress:', layout=Layout(height='25px', width='50%'),…"
      ]
     },
     "metadata": {},
     "output_type": "display_data"
    },
    {
     "name": "stdout",
     "output_type": "stream",
     "text": [
      "import java.time.temporal.ChronoUnit.DAYS\n",
      "import java.time.LocalDate\n",
      "daysBetween: (x: FlightData)Long\n"
     ]
    }
   ],
   "source": [
    "import java.time.temporal.ChronoUnit.DAYS\n",
    "import java.time.LocalDate\n",
    "\n",
    "def daysBetween(x: FlightData): Long = {\n",
    "    val searchDate = LocalDate.parse(x.searchDate);\n",
    "    val flightDate = LocalDate.parse(x.flightDate);\n",
    "    DAYS.between(searchDate, flightDate);\n",
    "}"
   ]
  },
  {
   "cell_type": "code",
   "execution_count": 35,
   "id": "bd026c30",
   "metadata": {},
   "outputs": [
    {
     "data": {
      "application/vnd.jupyter.widget-view+json": {
       "model_id": "f6becfe6f558409892aa9906709e40a3",
       "version_major": 2,
       "version_minor": 0
      },
      "text/plain": [
       "VBox()"
      ]
     },
     "metadata": {},
     "output_type": "display_data"
    },
    {
     "data": {
      "application/vnd.jupyter.widget-view+json": {
       "model_id": "",
       "version_major": 2,
       "version_minor": 0
      },
      "text/plain": [
       "FloatProgress(value=0.0, bar_style='info', description='Progress:', layout=Layout(height='25px', width='50%'),…"
      ]
     },
     "metadata": {},
     "output_type": "display_data"
    },
    {
     "name": "stdout",
     "output_type": "stream",
     "text": [
      "rddData1WeekBeforeDirectFlight: org.apache.spark.rdd.RDD[FlightData] = MapPartitionsRDD[148] at filter at <console>:45\n"
     ]
    }
   ],
   "source": [
    "val rddData1WeekBeforeDirectFlight = rddFlights.\n",
    "    filter(x => daysBetween(x) <= 14).\n",
    "    filter(_.isNonStop).\n",
    "    filter(_.travelDistance != 0).\n",
    "    cache()"
   ]
  },
  {
   "cell_type": "code",
   "execution_count": 36,
   "id": "418a3660",
   "metadata": {},
   "outputs": [
    {
     "data": {
      "application/vnd.jupyter.widget-view+json": {
       "model_id": "dcbbaa46ea1f43d1a28fa0d109c78462",
       "version_major": 2,
       "version_minor": 0
      },
      "text/plain": [
       "VBox()"
      ]
     },
     "metadata": {},
     "output_type": "display_data"
    },
    {
     "data": {
      "application/vnd.jupyter.widget-view+json": {
       "model_id": "",
       "version_major": 2,
       "version_minor": 0
      },
      "text/plain": [
       "FloatProgress(value=0.0, bar_style='info', description='Progress:', layout=Layout(height='25px', width='50%'),…"
      ]
     },
     "metadata": {},
     "output_type": "display_data"
    },
    {
     "name": "stdout",
     "output_type": "stream",
     "text": [
      "rddAveragePricePerFlight: org.apache.spark.rdd.RDD[(String, Double)] = MapPartitionsRDD[151] at map at <console>:43\n"
     ]
    }
   ],
   "source": [
    "val rddAveragePricePerFlight = rddData1WeekBeforeDirectFlight.\n",
    "    map(x => (x.flightID, x.baseFare)).\n",
    "    aggregateByKey((0.0,0.0))((x,y)=>(x._1+y, x._2 + 1) , (x,y)=>(x._1 + y._1, x._2 + y._2)).\n",
    "    map({case(k,v) => (k, v._1/v._2)})"
   ]
  },
  {
   "cell_type": "code",
   "execution_count": 37,
   "id": "c63fae7e",
   "metadata": {},
   "outputs": [
    {
     "data": {
      "application/vnd.jupyter.widget-view+json": {
       "model_id": "4c848e8d94f24830b18e4ad640e3df61",
       "version_major": 2,
       "version_minor": 0
      },
      "text/plain": [
       "VBox()"
      ]
     },
     "metadata": {},
     "output_type": "display_data"
    },
    {
     "data": {
      "application/vnd.jupyter.widget-view+json": {
       "model_id": "",
       "version_major": 2,
       "version_minor": 0
      },
      "text/plain": [
       "FloatProgress(value=0.0, bar_style='info', description='Progress:', layout=Layout(height='25px', width='50%'),…"
      ]
     },
     "metadata": {},
     "output_type": "display_data"
    },
    {
     "name": "stdout",
     "output_type": "stream",
     "text": [
      "rddAveragePricePerFlightWithDistance: org.apache.spark.rdd.RDD[(String, (Int, Double))] = MapPartitionsRDD[158] at join at <console>:45\n"
     ]
    }
   ],
   "source": [
    "val rddAveragePricePerFlightWithDistance = rddData1WeekBeforeDirectFlight.\n",
    "    map(x => (x.flightID, x.travelDistance)).\n",
    "    distinct().\n",
    "    join(rddAveragePricePerFlight)"
   ]
  },
  {
   "cell_type": "code",
   "execution_count": 38,
   "id": "42bf6d4c",
   "metadata": {},
   "outputs": [
    {
     "data": {
      "application/vnd.jupyter.widget-view+json": {
       "model_id": "cf7b800d5b7c4bf5971e7aa1b9002f0e",
       "version_major": 2,
       "version_minor": 0
      },
      "text/plain": [
       "VBox()"
      ]
     },
     "metadata": {},
     "output_type": "display_data"
    },
    {
     "data": {
      "application/vnd.jupyter.widget-view+json": {
       "model_id": "",
       "version_major": 2,
       "version_minor": 0
      },
      "text/plain": [
       "FloatProgress(value=0.0, bar_style='info', description='Progress:', layout=Layout(height='25px', width='50%'),…"
      ]
     },
     "metadata": {},
     "output_type": "display_data"
    },
    {
     "name": "stdout",
     "output_type": "stream",
     "text": [
      "rddAveragePricePerDistance: org.apache.spark.rdd.RDD[(String, Double)] = MapPartitionsRDD[159] at map at <console>:41\n"
     ]
    }
   ],
   "source": [
    "val rddAveragePricePerDistance = rddAveragePricePerFlightWithDistance.\n",
    "    map({case(x,y) => (x, y._2/y._1)})"
   ]
  },
  {
   "cell_type": "code",
   "execution_count": 39,
   "id": "e04d12c3",
   "metadata": {},
   "outputs": [
    {
     "data": {
      "application/vnd.jupyter.widget-view+json": {
       "model_id": "534ad711355e48cea9d3cea2cdc4872e",
       "version_major": 2,
       "version_minor": 0
      },
      "text/plain": [
       "VBox()"
      ]
     },
     "metadata": {},
     "output_type": "display_data"
    },
    {
     "data": {
      "application/vnd.jupyter.widget-view+json": {
       "model_id": "",
       "version_major": 2,
       "version_minor": 0
      },
      "text/plain": [
       "FloatProgress(value=0.0, bar_style='info', description='Progress:', layout=Layout(height='25px', width='50%'),…"
      ]
     },
     "metadata": {},
     "output_type": "display_data"
    },
    {
     "name": "stdout",
     "output_type": "stream",
     "text": [
      "rddAveragePricePerAirport: org.apache.spark.rdd.RDD[(String, (String, Double))] = MapPartitionsRDD[166] at join at <console>:45\n"
     ]
    }
   ],
   "source": [
    "val rddAveragePricePerAirport = rddData1WeekBeforeDirectFlight.\n",
    "    map(x => (x.flightID, x.startingAirport)).\n",
    "    distinct().\n",
    "    join(rddAveragePricePerDistance)"
   ]
  },
  {
   "cell_type": "code",
   "execution_count": 45,
   "id": "a9cc7440",
   "metadata": {},
   "outputs": [
    {
     "data": {
      "application/vnd.jupyter.widget-view+json": {
       "model_id": "c0f93928dbb949f2bd83246de56b426a",
       "version_major": 2,
       "version_minor": 0
      },
      "text/plain": [
       "VBox()"
      ]
     },
     "metadata": {},
     "output_type": "display_data"
    },
    {
     "data": {
      "application/vnd.jupyter.widget-view+json": {
       "model_id": "",
       "version_major": 2,
       "version_minor": 0
      },
      "text/plain": [
       "FloatProgress(value=0.0, bar_style='info', description='Progress:', layout=Layout(height='25px', width='50%'),…"
      ]
     },
     "metadata": {},
     "output_type": "display_data"
    },
    {
     "name": "stdout",
     "output_type": "stream",
     "text": [
      "rddFinal: org.apache.spark.rdd.RDD[(Double, String)] = ShuffledRDD[181] at sortByKey at <console>:44\n"
     ]
    }
   ],
   "source": [
    "val rddFinal = rddAveragePricePerAirport.\n",
    "    map({case(x,y) => (y._1, y._2)}).\n",
    "    aggregateByKey((0.0,0.0))((x,y)=>(x._1+y, x._2 + 1) , (a,b)=>(a._1 + b._1, a._2 + b._2)).\n",
    "    map({case(k,v) => (v._1/v._2, k)}).\n",
    "    sortByKey()"
   ]
  },
  {
   "cell_type": "code",
   "execution_count": 47,
   "id": "b9ed6857",
   "metadata": {},
   "outputs": [
    {
     "data": {
      "application/vnd.jupyter.widget-view+json": {
       "model_id": "ae1bd5edaa5443959bddc3f3eb54097b",
       "version_major": 2,
       "version_minor": 0
      },
      "text/plain": [
       "VBox()"
      ]
     },
     "metadata": {},
     "output_type": "display_data"
    },
    {
     "data": {
      "application/vnd.jupyter.widget-view+json": {
       "model_id": "",
       "version_major": 2,
       "version_minor": 0
      },
      "text/plain": [
       "FloatProgress(value=0.0, bar_style='info', description='Progress:', layout=Layout(height='25px', width='50%'),…"
      ]
     },
     "metadata": {},
     "output_type": "display_data"
    },
    {
     "name": "stdout",
     "output_type": "stream",
     "text": [
      "df: org.apache.spark.sql.DataFrame = [Airport: double, AvgPricePerDistance: string]\n"
     ]
    }
   ],
   "source": [
    "val df = rddFinal.toDF(\"Airport\", \"AvgPricePerDistance\")"
   ]
  },
  {
   "cell_type": "code",
   "execution_count": 69,
   "id": "822793cb",
   "metadata": {},
   "outputs": [
    {
     "data": {
      "application/vnd.jupyter.widget-view+json": {
       "model_id": "308970c9f31b49e5925f88dd64a19a9c",
       "version_major": 2,
       "version_minor": 0
      },
      "text/plain": [
       "VBox()"
      ]
     },
     "metadata": {},
     "output_type": "display_data"
    },
    {
     "data": {
      "application/vnd.jupyter.widget-view+json": {
       "model_id": "",
       "version_major": 2,
       "version_minor": 0
      },
      "text/plain": [
       "FloatProgress(value=0.0, bar_style='info', description='Progress:', layout=Layout(height='25px', width='50%'),…"
      ]
     },
     "metadata": {},
     "output_type": "display_data"
    },
    {
     "name": "stderr",
     "output_type": "stream",
     "text": [
      "An error was encountered:\n",
      "<console>:38: error: not found: value $ivy\n",
      "       import $ivy.`org.vegas-viz::vegas_2.11:0.3.11`\n",
      "              ^\n",
      "\n"
     ]
    }
   ],
   "source": [
    "import $ivy.`org.vegas-viz::vegas_2.11:0.3.11`\n"
   ]
  },
  {
   "cell_type": "code",
   "execution_count": 65,
   "id": "bf327341",
   "metadata": {},
   "outputs": [
    {
     "data": {
      "application/vnd.jupyter.widget-view+json": {
       "model_id": "8563de51a6d14ced8ed6a079b09b5310",
       "version_major": 2,
       "version_minor": 0
      },
      "text/plain": [
       "VBox()"
      ]
     },
     "metadata": {},
     "output_type": "display_data"
    },
    {
     "data": {
      "application/vnd.jupyter.widget-view+json": {
       "model_id": "",
       "version_major": 2,
       "version_minor": 0
      },
      "text/plain": [
       "FloatProgress(value=0.0, bar_style='info', description='Progress:', layout=Layout(height='25px', width='50%'),…"
      ]
     },
     "metadata": {},
     "output_type": "display_data"
    },
    {
     "name": "stderr",
     "output_type": "stream",
     "text": [
      "An error was encountered:\n",
      "<console>:2: error: '.' expected but ';' found.\n",
      "import `org.vegas-viz:vegas-spark_2.11:0.3.11`\n",
      "^\n",
      "\n"
     ]
    }
   ],
   "source": [
    "import `org.vegas-viz:vegas_2.11:0.3.11`\n",
    "import `org.vegas-viz:vegas-spark_2.11:0.3.11`\n",
    "\n",
    "import vegas._\n",
    "import vegas.render.WindowRenderer._\n",
    "import vegas.sparkExt._\n",
    "\n",
    "Vegas(“Average price/distance per airport”)\n",
    " .withDataFrame(df)\n",
    " .mark(Bar) // Change to .mark(Area)\n",
    " .encodeX(“Airport”, Nom)\n",
    " .encodeY(“AvgPricePerDistance”, Quant)\n",
    " .show"
   ]
  },
  {
   "cell_type": "code",
   "execution_count": null,
   "id": "fc45a4cf",
   "metadata": {},
   "outputs": [],
   "source": []
  }
 ],
 "metadata": {
  "kernelspec": {
   "display_name": "Spark",
   "language": "scala",
   "name": "sparkkernel"
  },
  "language_info": {
   "codemirror_mode": "text/x-scala",
   "file_extension": ".sc",
   "mimetype": "text/x-scala",
   "name": "scala",
   "pygments_lexer": "scala"
  }
 },
 "nbformat": 4,
 "nbformat_minor": 5
}
